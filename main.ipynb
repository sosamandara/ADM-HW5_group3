{
 "cells": [
  {
   "cell_type": "markdown",
   "id": "81d014c3-0662-445a-b751-f4458263ea57",
   "metadata": {},
   "source": [
    "# *1. Data*"
   ]
  },
  {
   "cell_type": "code",
   "execution_count": null,
   "id": "f8e62939-8fb0-47a6-ba3b-f0f38ada14e4",
   "metadata": {},
   "outputs": [],
   "source": [
    "import pandas as pd \n",
    "import numpy as np\n",
    "import networkx as nx\n",
    "import matplotlib.pyplot as plt"
   ]
  },
  {
   "cell_type": "code",
   "execution_count": null,
   "id": "c302ebcd-94aa-4a60-9726-ab810e883422",
   "metadata": {},
   "outputs": [],
   "source": [
    "df_hero = pd.read_csv(\"hero-network.csv\")"
   ]
  },
  {
   "cell_type": "code",
   "execution_count": null,
   "id": "684f3432-e51f-480f-aedf-eaef61804fcb",
   "metadata": {},
   "outputs": [],
   "source": [
    "df_hero.head(5)"
   ]
  },
  {
   "cell_type": "code",
   "execution_count": null,
   "id": "cb72afa3-6427-4eff-8611-b1660a2abc56",
   "metadata": {},
   "outputs": [],
   "source": [
    "df_nodes = pd.read_csv(\"nodes.csv\")"
   ]
  },
  {
   "cell_type": "code",
   "execution_count": null,
   "id": "ca4ec447",
   "metadata": {},
   "outputs": [],
   "source": [
    "df_nodes.head(5)"
   ]
  },
  {
   "cell_type": "code",
   "execution_count": null,
   "id": "d147d122-7a3b-4026-915b-a909facea3ab",
   "metadata": {},
   "outputs": [],
   "source": [
    "df_edges = pd.read_csv(\"edges.csv\")"
   ]
  },
  {
   "cell_type": "code",
   "execution_count": null,
   "id": "1642cf0b-8c73-454b-ae3e-0d93c43108da",
   "metadata": {},
   "outputs": [],
   "source": [
    "df_edges.head(5)"
   ]
  },
  {
   "cell_type": "markdown",
   "id": "cc09b5bb-9a36-4208-b23d-d8891862904e",
   "metadata": {},
   "source": [
    "## Preprocessing"
   ]
  },
  {
   "cell_type": "code",
   "execution_count": null,
   "id": "e3540072-bede-445f-9517-e7050193f7fa",
   "metadata": {},
   "outputs": [],
   "source": [
    "df_hero[\"hero1\"] = df_hero[\"hero1\"].apply(lambda x: x.strip('/'))\n",
    "df_hero[\"hero2\"] = df_hero[\"hero2\"].apply(lambda x: x.strip('/'))\n",
    "df_hero[\"hero1\"] = df_hero[\"hero1\"].apply(lambda x: x.strip())\n",
    "df_hero[\"hero2\"] = df_hero[\"hero2\"].apply(lambda x: x.strip())"
   ]
  },
  {
   "cell_type": "code",
   "execution_count": null,
   "id": "2d78b36d",
   "metadata": {},
   "outputs": [],
   "source": [
    "df_edges[\"hero\"] = df_edges[\"hero\"].apply(lambda x: x.strip('/'))\n",
    "df_edges[\"hero\"] = df_edges[\"hero\"].apply(lambda x: x.strip())"
   ]
  },
  {
   "cell_type": "code",
   "execution_count": null,
   "id": "42d10b0c",
   "metadata": {},
   "outputs": [],
   "source": [
    "df_nodes[\"node\"] = df_nodes[\"node\"].apply(lambda x: x.strip('/'))\n",
    "df_nodes[\"node\"] = df_nodes[\"node\"].apply(lambda x: x.strip())"
   ]
  },
  {
   "cell_type": "code",
   "execution_count": null,
   "id": "fb7f8a4e-0bc5-4415-9eeb-ca4bce49ca41",
   "metadata": {},
   "outputs": [],
   "source": [
    "df_hero.tail(5)"
   ]
  },
  {
   "cell_type": "code",
   "execution_count": null,
   "id": "63431d61-6c4d-48f4-9954-734725a3d325",
   "metadata": {},
   "outputs": [],
   "source": [
    "df_edges[\"hero\"] = df_edges[\"hero\"].apply(lambda x: x[:20])"
   ]
  },
  {
   "cell_type": "code",
   "execution_count": null,
   "id": "f41d9074-c222-423b-b5fc-e018014ec0b7",
   "metadata": {},
   "outputs": [],
   "source": [
    "df_edges.loc[75723]"
   ]
  },
  {
   "cell_type": "code",
   "execution_count": null,
   "id": "b527a7ed-ff6e-4256-bdc5-66b2970b3e4b",
   "metadata": {},
   "outputs": [],
   "source": [
    "df_hero_noduplicate = df_hero[df_hero.hero1 != df_hero.hero2].copy(deep=True)"
   ]
  },
  {
   "cell_type": "code",
   "execution_count": null,
   "id": "04e51ce9-4f76-479e-b882-7108adf67257",
   "metadata": {},
   "outputs": [],
   "source": [
    "df_hero_noduplicate.shape"
   ]
  },
  {
   "cell_type": "code",
   "execution_count": null,
   "id": "1d2a78ea-b984-4863-8852-ff45e1d74d64",
   "metadata": {},
   "outputs": [],
   "source": [
    "df_hero.shape"
   ]
  },
  {
   "cell_type": "code",
   "execution_count": null,
   "id": "dc4a94e9-a141-493d-8263-24a8a06d6481",
   "metadata": {},
   "outputs": [],
   "source": [
    "df_edges.to_pickle(\"edges_clear.pkl\")\n",
    "df_hero_noduplicate.to_pickle(\"hero_clear.pkl\")\n",
    "df_nodes.to_pickle('nodes_clear.pkl')"
   ]
  },
  {
   "cell_type": "code",
   "execution_count": null,
   "id": "b21f61c9",
   "metadata": {},
   "outputs": [],
   "source": [
    "df_hero_noduplicate = pd.read_pickle(\"hero_clear.pkl\")\n",
    "df_edges = pd.read_pickle(\"edges_clear.pkl\")\n",
    "df_nodes = pd.read_pickle(\"nodes_clear.pkl\")"
   ]
  },
  {
   "cell_type": "markdown",
   "id": "b6595f92-c68b-460f-9313-d37fe52c0866",
   "metadata": {},
   "source": [
    "## **Graphs setup**"
   ]
  },
  {
   "cell_type": "code",
   "execution_count": null,
   "id": "48494b7e-7c7e-4c78-bc54-f45beb35d56a",
   "metadata": {},
   "outputs": [],
   "source": [
    "Graph_1 = nx.MultiGraph()"
   ]
  },
  {
   "cell_type": "code",
   "execution_count": null,
   "id": "bbc0a3db-b876-4863-aeee-8a238bba03e7",
   "metadata": {
    "collapsed": true,
    "jupyter": {
     "outputs_hidden": true
    },
    "tags": []
   },
   "outputs": [],
   "source": [
    "list(set((df_hero_noduplicate.hero1).unique()).union(set((df_hero_noduplicate.hero2).unique())))"
   ]
  },
  {
   "cell_type": "code",
   "execution_count": null,
   "id": "6689b362-2874-4b7e-9026-32e118d8f985",
   "metadata": {},
   "outputs": [],
   "source": [
    "Graph_1.add_nodes_from(list(set((df_hero_noduplicate.hero1).unique()).union(set((df_hero_noduplicate.hero2).unique()))))"
   ]
  },
  {
   "cell_type": "code",
   "execution_count": null,
   "id": "9192c704-df5c-4912-92b3-247fbf309edb",
   "metadata": {
    "collapsed": true,
    "jupyter": {
     "outputs_hidden": true
    },
    "tags": []
   },
   "outputs": [],
   "source": [
    "Graph_1.add_edges_from(list(zip(list(df_hero_noduplicate.hero1),list(df_hero_noduplicate.hero2))))"
   ]
  },
  {
   "cell_type": "code",
   "execution_count": null,
   "id": "75387335-4be3-465f-942d-87a7dd47bbfe",
   "metadata": {},
   "outputs": [],
   "source": [
    "nx.info(Graph_1)"
   ]
  },
  {
   "cell_type": "code",
   "execution_count": null,
   "id": "005e4ef3-1f3b-4fbe-a863-4123f4bb90f2",
   "metadata": {},
   "outputs": [],
   "source": [
    "# create weighted graph from M\n",
    "Graph_1reduce = nx.Graph()\n",
    "for u,v,w in Graph_1.edges:\n",
    "    if Graph_1reduce.has_edge(u,v):\n",
    "        Graph_1reduce[u][v]['weight'] += 1\n",
    "    else:\n",
    "        Graph_1reduce.add_edge(u, v, weight=1)"
   ]
  },
  {
   "cell_type": "code",
   "execution_count": null,
   "id": "c98ae7f9-d1f3-4dc0-a3dd-0bc966fe63e0",
   "metadata": {},
   "outputs": [],
   "source": [
    "for u,v in Graph_1reduce.edges:\n",
    "    Graph_1reduce[u][v]['weight']=1/Graph_1reduce[u][v]['weight']    "
   ]
  },
  {
   "cell_type": "code",
   "execution_count": null,
   "id": "e3bbd5b8-786f-4a16-b865-4064a63e0e51",
   "metadata": {},
   "outputs": [],
   "source": [
    "Graph_1reduce.edges()[('PRINCESS ZANDA', 'LITTLE, ABNER')]['weight']"
   ]
  },
  {
   "cell_type": "markdown",
   "id": "1a3d1244-9d13-4e52-9295-de6951562b95",
   "metadata": {},
   "source": [
    "### Graph_2"
   ]
  },
  {
   "cell_type": "code",
   "execution_count": null,
   "id": "94726e28-27b8-4a09-819c-48a995f81034",
   "metadata": {},
   "outputs": [],
   "source": [
    "Graph_2 = nx.Graph()"
   ]
  },
  {
   "cell_type": "code",
   "execution_count": null,
   "id": "b75b68f0-4a56-427d-8fcd-e3fbf3c7a17a",
   "metadata": {},
   "outputs": [],
   "source": [
    "Graph_2.add_nodes_from(list((df_nodes.node).unique()))"
   ]
  },
  {
   "cell_type": "code",
   "execution_count": null,
   "id": "dc5e588a-e5b7-4b30-9a62-141b526967c9",
   "metadata": {
    "tags": []
   },
   "outputs": [],
   "source": [
    "Graph_2.add_edges_from(list(zip(list(df_edges.hero),list(df_edges.comic))))"
   ]
  },
  {
   "cell_type": "code",
   "execution_count": null,
   "id": "21e8d1c7",
   "metadata": {},
   "outputs": [],
   "source": [
    "nx.info(Graph_2)"
   ]
  },
  {
   "attachments": {},
   "cell_type": "markdown",
   "id": "c4681440",
   "metadata": {},
   "source": [
    "### Functionality 3 - Shortest ordered Route\n",
    "Input:\n",
    "\n",
    "* The graph data\n",
    "* A sequence of superheroes h = [h_2, ..., h_n-1]\n",
    "* Initial node h_1 and an end node h_n\n",
    "* N: denoting the top N heroes that their data should be considered\n",
    "\n",
    "Output:\n",
    "* The shortest walk of comics that you need to read to get from hero_1 to hero_n \n",
    "\n",
    "Considerations: For this functionality, you need to implement an algorithm that returns the shortest walk that goes from node h_j to h_n, which\\\n",
    " visits in order the nodes in h. The choice of h_j and h_n can be made randomly (or if it improves the performance of the algorithm, you can also\\\n",
    " define it in any other way)\n",
    "\n",
    "Important Notes:\n",
    "\n",
    "* This algorithm should be run only on the second graph.\n",
    "* The algorithm needs to handle the case that the graph is not connected. Thus, only some of the nodes in h are reachable from h_1. In such \\\n",
    "a scenario, it is enough to let the program give in the output the string \"There is no such path\".\n",
    "* Since we are dealing with walks, you can pass on the same node h_i more than once, but you have to preserve order. E.g., if you start from\\\n",
    " Spiderman to reach deadpool, and your path requires you to visit iron-man and colossus, you can go back to any comics any time you \\\n",
    " want, assuming that the order in which you visit the heroes is still the same."
   ]
  },
  {
   "cell_type": "code",
   "execution_count": null,
   "id": "c640be90",
   "metadata": {},
   "outputs": [],
   "source": [
    "def Top_N_heroes(N,df_edges):\n",
    "    degree_nodes = df_edges.groupby('hero').size().reset_index()\n",
    "    degree_nodes.rename(columns={0: \"size\"},inplace=True)\n",
    "    first_N_heroes = list((degree_nodes.sort_values(by=\"size\",ascending=False).head(N).hero))\n",
    "    return(first_N_heroes)"
   ]
  },
  {
   "cell_type": "code",
   "execution_count": null,
   "id": "350b8c0b",
   "metadata": {},
   "outputs": [],
   "source": [
    "def Shortest_Path_Comics(graph_data,seq_heroes,init_node,end_node,N):\n",
    "    Shortest_OR = [init_node]\n",
    "    first_N_heroes1 = Top_N_heroes(N,graph_data)\n",
    "    New_dataset = df_edges[df_edges['hero'].isin(first_N_heroes1)]\n",
    "    Graph_3 = nx.Graph()\n",
    "    Graph_3.add_edges_from(list(zip(list(New_dataset.hero),list(New_dataset.comic))))\n",
    "    Graph_3_copy = Graph_3.copy()\n",
    "    seq_heroes.append(end_node)\n",
    "    for i in range(1,len(seq_heroes)):\n",
    "        if((Graph_3_copy.has_node(seq_heroes[i-1])) & (Graph_3_copy.has_node(seq_heroes[i]))):\n",
    "            Shortest_OR += nx.shortest_path(Graph_3_copy,seq_heroes[i-1],seq_heroes[i])[1:]\n",
    "            #[Graph_3_copy.remove_nodes_from(Shortest_OR[:-1])\n",
    "        else:\n",
    "            print(\"There is no such path.\")\n",
    "            break\n",
    "    return(Shortest_OR[1:-1])\n"
   ]
  },
  {
   "cell_type": "code",
   "execution_count": null,
   "id": "33aaeb8e",
   "metadata": {},
   "outputs": [],
   "source": [
    "first_N_heroes1 = Top_N_heroes(N,graph_data)\n",
    "New_dataset = df_edges[df_edges['hero'].isin(first_N_heroes1)]\n",
    "Graph_3 = nx.Graph()\n",
    "Graph_3.add_edges_from(list(zip(list(New_dataset.hero),list(New_dataset.comic))))\n",
    "Graph_3_copy = Graph_3.copy()"
   ]
  },
  {
   "cell_type": "code",
   "execution_count": null,
   "id": "8f82dd9e",
   "metadata": {},
   "outputs": [],
   "source": [
    "graph_data = input(\"Enter the desidered graph:(In this case only 'df_edges' is allowed) \")\n",
    "if graph_data=='df_edges':\n",
    "    graph_data = df_edges\n",
    "else:\n",
    "    print(\"Re-run the cell, input not correct\")\n",
    "    sys.exit()\n",
    "N = int(input(\"Enter the top N heroes that we should considered: \"))\n",
    "if(N<0 or N>Graph_2.number_of_nodes()):\n",
    "    N=Graph_2.number_of_nodes()\n",
    "first_N_heroes = Top_N_heroes(N,graph_data)\n",
    "init_nodo = input(\"Enter the initial hero node: \")\n",
    "if(init_nodo not in first_N_heroes):\n",
    "    print(\"Re-run the cell, input not correct\")\n",
    "    sys.exit()\n",
    "end_node = input(\"Enter the hero end node: \")\n",
    "if(end_node not in first_N_heroes):\n",
    "    print(\"Re-run the cell, input not correct\")\n",
    "    sys.exit()\n",
    "seq_heroes = []\n",
    "n = int(input(\"Enter the list size \\n\"))\n",
    "for i in range(0, n):\n",
    "    print(\"Enter hero at index\", i, )\n",
    "    hero= input()\n",
    "    seq_heroes.append(hero)\n",
    "print(\"User list is \", seq_heroes)\n",
    "for elem in seq_heroes:\n",
    "    if elem not in first_N_heroes:\n",
    "        print(\"Re-run the cell, input not correct\")\n",
    "        sys.exit()\n"
   ]
  },
  {
   "cell_type": "code",
   "execution_count": 32,
   "id": "3a5d6181",
   "metadata": {},
   "outputs": [
    {
     "name": "stdout",
     "output_type": "stream",
     "text": [
      "There is no such path.\n",
      "This is the connecting component we have found that start with SPIDER-MAN/PETER PAR and ends at WOLVERINE/LOGAN:\n",
      " []\n",
      "If we want to visualize only a walk of comics then: \n",
      " []\n"
     ]
    }
   ],
   "source": [
    "Shortest_OR = Shortest_Path_Comics(graph_data,seq_heroes,init_nodo,end_node,N)\n",
    "print(f'This is the connecting component we have found that start with {init_nodo} and ends at {end_node}:\\n'\n",
    "            ,Shortest_OR)\n",
    "print(\"If we want to visualize only a walk of comics then: \\n\",[item for item in Shortest_OR if item not in first_N_heroes])"
   ]
  }
 ],
 "metadata": {
  "kernelspec": {
   "display_name": "base",
   "language": "python",
   "name": "python3"
  },
  "language_info": {
   "codemirror_mode": {
    "name": "ipython",
    "version": 3
   },
   "file_extension": ".py",
   "mimetype": "text/x-python",
   "name": "python",
   "nbconvert_exporter": "python",
   "pygments_lexer": "ipython3",
   "version": "3.9.7"
  },
  "vscode": {
   "interpreter": {
    "hash": "28ea75b7d9dd5b325cb9a751dc34da71a10f8944bac9b4ff454d9595cb15b82f"
   }
  }
 },
 "nbformat": 4,
 "nbformat_minor": 5
}
