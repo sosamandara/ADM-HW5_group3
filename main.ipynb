{
 "cells": [
  {
   "cell_type": "markdown",
   "id": "bf143631-a150-43a7-936f-f464a4987446",
   "metadata": {},
   "source": [
    "# **Homework 5 - ADM - Group #3**"
   ]
  },
  {
   "cell_type": "markdown",
   "id": "81d014c3-0662-445a-b751-f4458263ea57",
   "metadata": {},
   "source": [
    "## **Useful libraries**"
   ]
  },
  {
   "cell_type": "code",
   "execution_count": 1,
   "id": "f8e62939-8fb0-47a6-ba3b-f0f38ada14e4",
   "metadata": {},
   "outputs": [],
   "source": [
    "import pandas as pd \n",
    "import numpy as np\n",
    "import networkx as nx\n",
    "import matplotlib.pyplot as plt\n",
    "from heapq import heapify, heappush, heappop"
   ]
  },
  {
   "cell_type": "markdown",
   "id": "a2f9639f-60c5-4db3-8b24-1c2eb7b93e10",
   "metadata": {},
   "source": [
    "## **1. Data**"
   ]
  },
  {
   "cell_type": "markdown",
   "id": "27aaabc6-05ff-42f2-b793-b9afd4d75623",
   "metadata": {},
   "source": [
    "Let's start by loading the three datasets that we are going to work with."
   ]
  },
  {
   "cell_type": "code",
   "execution_count": 2,
   "id": "c302ebcd-94aa-4a60-9726-ab810e883422",
   "metadata": {},
   "outputs": [],
   "source": [
    "df_hero = pd.read_csv(\"hero-network.csv\")"
   ]
  },
  {
   "cell_type": "code",
   "execution_count": 3,
   "id": "684f3432-e51f-480f-aedf-eaef61804fcb",
   "metadata": {},
   "outputs": [
    {
     "data": {
      "text/html": [
       "<div>\n",
       "<style scoped>\n",
       "    .dataframe tbody tr th:only-of-type {\n",
       "        vertical-align: middle;\n",
       "    }\n",
       "\n",
       "    .dataframe tbody tr th {\n",
       "        vertical-align: top;\n",
       "    }\n",
       "\n",
       "    .dataframe thead th {\n",
       "        text-align: right;\n",
       "    }\n",
       "</style>\n",
       "<table border=\"1\" class=\"dataframe\">\n",
       "  <thead>\n",
       "    <tr style=\"text-align: right;\">\n",
       "      <th></th>\n",
       "      <th>hero1</th>\n",
       "      <th>hero2</th>\n",
       "    </tr>\n",
       "  </thead>\n",
       "  <tbody>\n",
       "    <tr>\n",
       "      <th>0</th>\n",
       "      <td>LITTLE, ABNER</td>\n",
       "      <td>PRINCESS ZANDA</td>\n",
       "    </tr>\n",
       "    <tr>\n",
       "      <th>1</th>\n",
       "      <td>LITTLE, ABNER</td>\n",
       "      <td>BLACK PANTHER/T'CHAL</td>\n",
       "    </tr>\n",
       "    <tr>\n",
       "      <th>2</th>\n",
       "      <td>BLACK PANTHER/T'CHAL</td>\n",
       "      <td>PRINCESS ZANDA</td>\n",
       "    </tr>\n",
       "    <tr>\n",
       "      <th>3</th>\n",
       "      <td>LITTLE, ABNER</td>\n",
       "      <td>PRINCESS ZANDA</td>\n",
       "    </tr>\n",
       "    <tr>\n",
       "      <th>4</th>\n",
       "      <td>LITTLE, ABNER</td>\n",
       "      <td>BLACK PANTHER/T'CHAL</td>\n",
       "    </tr>\n",
       "  </tbody>\n",
       "</table>\n",
       "</div>"
      ],
      "text/plain": [
       "                  hero1                 hero2\n",
       "0         LITTLE, ABNER        PRINCESS ZANDA\n",
       "1         LITTLE, ABNER  BLACK PANTHER/T'CHAL\n",
       "2  BLACK PANTHER/T'CHAL        PRINCESS ZANDA\n",
       "3         LITTLE, ABNER        PRINCESS ZANDA\n",
       "4         LITTLE, ABNER  BLACK PANTHER/T'CHAL"
      ]
     },
     "execution_count": 3,
     "metadata": {},
     "output_type": "execute_result"
    }
   ],
   "source": [
    "df_hero.head(5)"
   ]
  },
  {
   "cell_type": "code",
   "execution_count": 4,
   "id": "cb72afa3-6427-4eff-8611-b1660a2abc56",
   "metadata": {},
   "outputs": [],
   "source": [
    "df_nodes = pd.read_csv(\"nodes.csv\")"
   ]
  },
  {
   "cell_type": "code",
   "execution_count": 5,
   "id": "ca4ec447",
   "metadata": {},
   "outputs": [
    {
     "data": {
      "text/html": [
       "<div>\n",
       "<style scoped>\n",
       "    .dataframe tbody tr th:only-of-type {\n",
       "        vertical-align: middle;\n",
       "    }\n",
       "\n",
       "    .dataframe tbody tr th {\n",
       "        vertical-align: top;\n",
       "    }\n",
       "\n",
       "    .dataframe thead th {\n",
       "        text-align: right;\n",
       "    }\n",
       "</style>\n",
       "<table border=\"1\" class=\"dataframe\">\n",
       "  <thead>\n",
       "    <tr style=\"text-align: right;\">\n",
       "      <th></th>\n",
       "      <th>node</th>\n",
       "      <th>type</th>\n",
       "    </tr>\n",
       "  </thead>\n",
       "  <tbody>\n",
       "    <tr>\n",
       "      <th>0</th>\n",
       "      <td>2001 10</td>\n",
       "      <td>comic</td>\n",
       "    </tr>\n",
       "    <tr>\n",
       "      <th>1</th>\n",
       "      <td>2001 8</td>\n",
       "      <td>comic</td>\n",
       "    </tr>\n",
       "    <tr>\n",
       "      <th>2</th>\n",
       "      <td>2001 9</td>\n",
       "      <td>comic</td>\n",
       "    </tr>\n",
       "    <tr>\n",
       "      <th>3</th>\n",
       "      <td>24-HOUR MAN/EMMANUEL</td>\n",
       "      <td>hero</td>\n",
       "    </tr>\n",
       "    <tr>\n",
       "      <th>4</th>\n",
       "      <td>3-D MAN/CHARLES CHAN</td>\n",
       "      <td>hero</td>\n",
       "    </tr>\n",
       "  </tbody>\n",
       "</table>\n",
       "</div>"
      ],
      "text/plain": [
       "                   node   type\n",
       "0               2001 10  comic\n",
       "1                2001 8  comic\n",
       "2                2001 9  comic\n",
       "3  24-HOUR MAN/EMMANUEL   hero\n",
       "4  3-D MAN/CHARLES CHAN   hero"
      ]
     },
     "execution_count": 5,
     "metadata": {},
     "output_type": "execute_result"
    }
   ],
   "source": [
    "df_nodes.head(5)"
   ]
  },
  {
   "cell_type": "code",
   "execution_count": 6,
   "id": "d147d122-7a3b-4026-915b-a909facea3ab",
   "metadata": {},
   "outputs": [],
   "source": [
    "df_edges = pd.read_csv(\"edges.csv\")"
   ]
  },
  {
   "cell_type": "code",
   "execution_count": 7,
   "id": "1642cf0b-8c73-454b-ae3e-0d93c43108da",
   "metadata": {},
   "outputs": [
    {
     "data": {
      "text/html": [
       "<div>\n",
       "<style scoped>\n",
       "    .dataframe tbody tr th:only-of-type {\n",
       "        vertical-align: middle;\n",
       "    }\n",
       "\n",
       "    .dataframe tbody tr th {\n",
       "        vertical-align: top;\n",
       "    }\n",
       "\n",
       "    .dataframe thead th {\n",
       "        text-align: right;\n",
       "    }\n",
       "</style>\n",
       "<table border=\"1\" class=\"dataframe\">\n",
       "  <thead>\n",
       "    <tr style=\"text-align: right;\">\n",
       "      <th></th>\n",
       "      <th>hero</th>\n",
       "      <th>comic</th>\n",
       "    </tr>\n",
       "  </thead>\n",
       "  <tbody>\n",
       "    <tr>\n",
       "      <th>0</th>\n",
       "      <td>24-HOUR MAN/EMMANUEL</td>\n",
       "      <td>AA2 35</td>\n",
       "    </tr>\n",
       "    <tr>\n",
       "      <th>1</th>\n",
       "      <td>3-D MAN/CHARLES CHAN</td>\n",
       "      <td>AVF 4</td>\n",
       "    </tr>\n",
       "    <tr>\n",
       "      <th>2</th>\n",
       "      <td>3-D MAN/CHARLES CHAN</td>\n",
       "      <td>AVF 5</td>\n",
       "    </tr>\n",
       "    <tr>\n",
       "      <th>3</th>\n",
       "      <td>3-D MAN/CHARLES CHAN</td>\n",
       "      <td>COC 1</td>\n",
       "    </tr>\n",
       "    <tr>\n",
       "      <th>4</th>\n",
       "      <td>3-D MAN/CHARLES CHAN</td>\n",
       "      <td>H2 251</td>\n",
       "    </tr>\n",
       "  </tbody>\n",
       "</table>\n",
       "</div>"
      ],
      "text/plain": [
       "                   hero   comic\n",
       "0  24-HOUR MAN/EMMANUEL  AA2 35\n",
       "1  3-D MAN/CHARLES CHAN   AVF 4\n",
       "2  3-D MAN/CHARLES CHAN   AVF 5\n",
       "3  3-D MAN/CHARLES CHAN   COC 1\n",
       "4  3-D MAN/CHARLES CHAN  H2 251"
      ]
     },
     "execution_count": 7,
     "metadata": {},
     "output_type": "execute_result"
    }
   ],
   "source": [
    "df_edges.head(5)"
   ]
  },
  {
   "cell_type": "markdown",
   "id": "cc09b5bb-9a36-4208-b23d-d8891862904e",
   "metadata": {},
   "source": [
    "### Preprocessing"
   ]
  },
  {
   "cell_type": "markdown",
   "id": "3e4a8d87-1d4a-45c5-987d-cc9f3152c22e",
   "metadata": {},
   "source": [
    "Now it's the time to adjust and clean our datasets.<br>\n",
    "As we can see below some heroes' name contain white spaces or slashes at the end. "
   ]
  },
  {
   "cell_type": "code",
   "execution_count": 8,
   "id": "7ad331d6-e13d-4221-9f7e-8b5f4d5547b8",
   "metadata": {},
   "outputs": [
    {
     "data": {
      "text/html": [
       "<div>\n",
       "<style scoped>\n",
       "    .dataframe tbody tr th:only-of-type {\n",
       "        vertical-align: middle;\n",
       "    }\n",
       "\n",
       "    .dataframe tbody tr th {\n",
       "        vertical-align: top;\n",
       "    }\n",
       "\n",
       "    .dataframe thead th {\n",
       "        text-align: right;\n",
       "    }\n",
       "</style>\n",
       "<table border=\"1\" class=\"dataframe\">\n",
       "  <thead>\n",
       "    <tr style=\"text-align: right;\">\n",
       "      <th></th>\n",
       "      <th>hero1</th>\n",
       "      <th>hero2</th>\n",
       "    </tr>\n",
       "  </thead>\n",
       "  <tbody>\n",
       "    <tr>\n",
       "      <th>574462</th>\n",
       "      <td>COLOSSUS II/PETER RA</td>\n",
       "      <td>CALLISTO</td>\n",
       "    </tr>\n",
       "    <tr>\n",
       "      <th>574463</th>\n",
       "      <td>CALLISTO</td>\n",
       "      <td>ROGUE /</td>\n",
       "    </tr>\n",
       "    <tr>\n",
       "      <th>574464</th>\n",
       "      <td>CALLISTO</td>\n",
       "      <td>CALIBAN/</td>\n",
       "    </tr>\n",
       "    <tr>\n",
       "      <th>574465</th>\n",
       "      <td>CALIBAN/</td>\n",
       "      <td>ROGUE /</td>\n",
       "    </tr>\n",
       "    <tr>\n",
       "      <th>574466</th>\n",
       "      <td>HULK/DR. ROBERT BRUC</td>\n",
       "      <td>MARKS, DR. SHIELA</td>\n",
       "    </tr>\n",
       "  </tbody>\n",
       "</table>\n",
       "</div>"
      ],
      "text/plain": [
       "                       hero1              hero2\n",
       "574462  COLOSSUS II/PETER RA           CALLISTO\n",
       "574463              CALLISTO            ROGUE /\n",
       "574464              CALLISTO           CALIBAN/\n",
       "574465              CALIBAN/            ROGUE /\n",
       "574466  HULK/DR. ROBERT BRUC  MARKS, DR. SHIELA"
      ]
     },
     "execution_count": 8,
     "metadata": {},
     "output_type": "execute_result"
    }
   ],
   "source": [
    "df_hero.tail(5)"
   ]
  },
  {
   "cell_type": "markdown",
   "id": "8173fe6f-8734-4c02-8f3f-c4a190f41cd8",
   "metadata": {},
   "source": [
    "So we are going to delete the white spaces or slashes that can be present at the end of the names of the heroes."
   ]
  },
  {
   "cell_type": "code",
   "execution_count": 9,
   "id": "e3540072-bede-445f-9517-e7050193f7fa",
   "metadata": {},
   "outputs": [],
   "source": [
    "df_hero[\"hero1\"] = df_hero[\"hero1\"].apply(lambda x: x.strip('/'))\n",
    "df_hero[\"hero2\"] = df_hero[\"hero2\"].apply(lambda x: x.strip('/'))\n",
    "df_hero[\"hero1\"] = df_hero[\"hero1\"].apply(lambda x: x.strip())\n",
    "df_hero[\"hero2\"] = df_hero[\"hero2\"].apply(lambda x: x.strip())"
   ]
  },
  {
   "cell_type": "code",
   "execution_count": 10,
   "id": "2d78b36d",
   "metadata": {},
   "outputs": [],
   "source": [
    "df_edges[\"hero\"] = df_edges[\"hero\"].apply(lambda x: x.strip('/'))\n",
    "df_edges[\"hero\"] = df_edges[\"hero\"].apply(lambda x: x.strip())"
   ]
  },
  {
   "cell_type": "code",
   "execution_count": 11,
   "id": "42d10b0c",
   "metadata": {},
   "outputs": [],
   "source": [
    "df_nodes[\"node\"] = df_nodes[\"node\"].apply(lambda x: x.strip('/'))\n",
    "df_nodes[\"node\"] = df_nodes[\"node\"].apply(lambda x: x.strip())"
   ]
  },
  {
   "cell_type": "code",
   "execution_count": 12,
   "id": "fb7f8a4e-0bc5-4415-9eeb-ca4bce49ca41",
   "metadata": {},
   "outputs": [
    {
     "data": {
      "text/html": [
       "<div>\n",
       "<style scoped>\n",
       "    .dataframe tbody tr th:only-of-type {\n",
       "        vertical-align: middle;\n",
       "    }\n",
       "\n",
       "    .dataframe tbody tr th {\n",
       "        vertical-align: top;\n",
       "    }\n",
       "\n",
       "    .dataframe thead th {\n",
       "        text-align: right;\n",
       "    }\n",
       "</style>\n",
       "<table border=\"1\" class=\"dataframe\">\n",
       "  <thead>\n",
       "    <tr style=\"text-align: right;\">\n",
       "      <th></th>\n",
       "      <th>hero1</th>\n",
       "      <th>hero2</th>\n",
       "    </tr>\n",
       "  </thead>\n",
       "  <tbody>\n",
       "    <tr>\n",
       "      <th>574462</th>\n",
       "      <td>COLOSSUS II/PETER RA</td>\n",
       "      <td>CALLISTO</td>\n",
       "    </tr>\n",
       "    <tr>\n",
       "      <th>574463</th>\n",
       "      <td>CALLISTO</td>\n",
       "      <td>ROGUE</td>\n",
       "    </tr>\n",
       "    <tr>\n",
       "      <th>574464</th>\n",
       "      <td>CALLISTO</td>\n",
       "      <td>CALIBAN</td>\n",
       "    </tr>\n",
       "    <tr>\n",
       "      <th>574465</th>\n",
       "      <td>CALIBAN</td>\n",
       "      <td>ROGUE</td>\n",
       "    </tr>\n",
       "    <tr>\n",
       "      <th>574466</th>\n",
       "      <td>HULK/DR. ROBERT BRUC</td>\n",
       "      <td>MARKS, DR. SHIELA</td>\n",
       "    </tr>\n",
       "  </tbody>\n",
       "</table>\n",
       "</div>"
      ],
      "text/plain": [
       "                       hero1              hero2\n",
       "574462  COLOSSUS II/PETER RA           CALLISTO\n",
       "574463              CALLISTO              ROGUE\n",
       "574464              CALLISTO            CALIBAN\n",
       "574465               CALIBAN              ROGUE\n",
       "574466  HULK/DR. ROBERT BRUC  MARKS, DR. SHIELA"
      ]
     },
     "execution_count": 12,
     "metadata": {},
     "output_type": "execute_result"
    }
   ],
   "source": [
    "df_hero.tail(5)"
   ]
  },
  {
   "cell_type": "markdown",
   "id": "053352bd-a113-4dcd-826b-73dbdfb68d12",
   "metadata": {},
   "source": [
    "Now, we know that in the \"hero-network.csv\" dataset the names of the heroes are limited to 20 characters, so to have all datasets consistent, we cut all the heroes' names to 20 characters."
   ]
  },
  {
   "cell_type": "code",
   "execution_count": 13,
   "id": "63431d61-6c4d-48f4-9954-734725a3d325",
   "metadata": {},
   "outputs": [],
   "source": [
    "df_edges[\"hero\"] = df_edges[\"hero\"].apply(lambda x: x[:20])"
   ]
  },
  {
   "cell_type": "code",
   "execution_count": 14,
   "id": "f41d9074-c222-423b-b5fc-e018014ec0b7",
   "metadata": {},
   "outputs": [
    {
     "data": {
      "text/plain": [
       "hero     SPIDER-MAN/PETER PAR\n",
       "comic                   A 118\n",
       "Name: 75723, dtype: object"
      ]
     },
     "execution_count": 14,
     "metadata": {},
     "output_type": "execute_result"
    }
   ],
   "source": [
    "df_edges.loc[75723]"
   ]
  },
  {
   "cell_type": "markdown",
   "id": "bd5cb859-5f0c-4ee9-b5a9-ab3c48411ae8",
   "metadata": {},
   "source": [
    "Finallly, we remove form the \"hero-network.csv\" the couples that have the same hero in the two columns, because this would form a self loop in the graph and we are not interested in those."
   ]
  },
  {
   "cell_type": "code",
   "execution_count": 15,
   "id": "b527a7ed-ff6e-4256-bdc5-66b2970b3e4b",
   "metadata": {},
   "outputs": [],
   "source": [
    "df_hero_noduplicate = df_hero[df_hero.hero1 != df_hero.hero2].copy(deep=True)"
   ]
  },
  {
   "cell_type": "code",
   "execution_count": 16,
   "id": "04e51ce9-4f76-479e-b882-7108adf67257",
   "metadata": {},
   "outputs": [
    {
     "data": {
      "text/plain": [
       "(572235, 2)"
      ]
     },
     "execution_count": 16,
     "metadata": {},
     "output_type": "execute_result"
    }
   ],
   "source": [
    "df_hero_noduplicate.shape"
   ]
  },
  {
   "cell_type": "code",
   "execution_count": 17,
   "id": "1d2a78ea-b984-4863-8852-ff45e1d74d64",
   "metadata": {},
   "outputs": [
    {
     "data": {
      "text/plain": [
       "(574467, 2)"
      ]
     },
     "execution_count": 17,
     "metadata": {},
     "output_type": "execute_result"
    }
   ],
   "source": [
    "df_hero.shape"
   ]
  },
  {
   "cell_type": "code",
   "execution_count": 18,
   "id": "dc4a94e9-a141-493d-8263-24a8a06d6481",
   "metadata": {},
   "outputs": [],
   "source": [
    "#save the cleaned datasets in pickle format\n",
    "df_edges.to_pickle(\"edges_clear.pkl\")\n",
    "df_hero_noduplicate.to_pickle(\"hero_clear.pkl\")\n",
    "df_nodes.to_pickle('nodes_clear.pkl')"
   ]
  },
  {
   "cell_type": "code",
   "execution_count": 2,
   "id": "b21f61c9",
   "metadata": {},
   "outputs": [],
   "source": [
    "#run if you need to load the cleaned datasets\n",
    "df_hero_noduplicate = pd.read_pickle(\"hero_clear.pkl\")\n",
    "df_edges = pd.read_pickle(\"edges_clear.pkl\")\n",
    "df_nodes = pd.read_pickle(\"nodes_clear.pkl\")"
   ]
  },
  {
   "cell_type": "markdown",
   "id": "b6595f92-c68b-460f-9313-d37fe52c0866",
   "metadata": {},
   "source": [
    "### Graphs setup"
   ]
  },
  {
   "cell_type": "markdown",
   "id": "c6bb0108-4ae1-4f33-b3ca-777e23b80da4",
   "metadata": {},
   "source": [
    "### *Graph 1*\n",
    "The metric that we decided to use for the weighting of the graph is $\\frac{1}{number of collaborations}$, in this way the more collaborations two heroes have, the less the cost. <br>\n",
    "Now, to do so let's start by constructing a multigraph, that is a graph that can contain multiple edges between the same couple of nodes."
   ]
  },
  {
   "cell_type": "code",
   "execution_count": 3,
   "id": "48494b7e-7c7e-4c78-bc54-f45beb35d56a",
   "metadata": {},
   "outputs": [
    {
     "name": "stderr",
     "output_type": "stream",
     "text": [
      "C:\\Users\\Angelo\\AppData\\Local\\Temp/ipykernel_18168/2430691300.py:13: DeprecationWarning: info is deprecated and will be removed in version 3.0.\n",
      "\n",
      "  nx.info(Graph_1)\n"
     ]
    },
    {
     "data": {
      "text/plain": [
       "'MultiGraph with 6421 nodes and 572235 edges'"
      ]
     },
     "execution_count": 3,
     "metadata": {},
     "output_type": "execute_result"
    }
   ],
   "source": [
    "#initialize a Multigraph\n",
    "Graph_1 = nx.MultiGraph()\n",
    "\n",
    "#get all the heroes\n",
    "list(set((df_hero_noduplicate.hero1).unique()).union(set((df_hero_noduplicate.hero2).unique())))\n",
    "\n",
    "#add the heroes as nodes of the graph\n",
    "Graph_1.add_nodes_from(list(set((df_hero_noduplicate.hero1).unique()).union(set((df_hero_noduplicate.hero2).unique()))))\n",
    "\n",
    "#add the collaborations between the heroes as edges\n",
    "Graph_1.add_edges_from(list(zip(list(df_hero_noduplicate.hero1),list(df_hero_noduplicate.hero2))))\n",
    "\n",
    "nx.info(Graph_1)"
   ]
  },
  {
   "cell_type": "markdown",
   "id": "f2675116-8035-4a17-9a65-acf29a2bb1d3",
   "metadata": {},
   "source": [
    "Obtained the MultiGraph, we create the weighted Graph requested in this way: we iterate on all the edges of the multigraph, and for each couple we count the number of edges (assigning this number to the weight of the edge in the Graph). At this point we simply invert the weights to obtain new weights that follow our metric."
   ]
  },
  {
   "cell_type": "code",
   "execution_count": 4,
   "id": "005e4ef3-1f3b-4fbe-a863-4123f4bb90f2",
   "metadata": {},
   "outputs": [],
   "source": [
    "# create weighted graph from Graph_1\n",
    "Graph_1reduce = nx.Graph()\n",
    "#iterate on all the edges of the multigraph\n",
    "for u,v,w in Graph_1.edges:\n",
    "    if Graph_1reduce.has_edge(u,v):\n",
    "        Graph_1reduce[u][v]['weight'] += 1\n",
    "    else:\n",
    "        Graph_1reduce.add_edge(u, v, weight=1)\n",
    "        \n",
    "#invert the weights of the graph\n",
    "for u,v in Graph_1reduce.edges:\n",
    "    Graph_1reduce[u][v]['weight']=1/Graph_1reduce[u][v]['weight']"
   ]
  },
  {
   "cell_type": "code",
   "execution_count": 26,
   "id": "e3bbd5b8-786f-4a16-b865-4064a63e0e51",
   "metadata": {},
   "outputs": [
    {
     "data": {
      "text/plain": [
       "0.125"
      ]
     },
     "execution_count": 26,
     "metadata": {},
     "output_type": "execute_result"
    }
   ],
   "source": [
    "#example\n",
    "Graph_1reduce.edges()[('PRINCESS ZANDA', 'LITTLE, ABNER')]['weight']"
   ]
  },
  {
   "cell_type": "markdown",
   "id": "1a3d1244-9d13-4e52-9295-de6951562b95",
   "metadata": {},
   "source": [
    "### *Graph 2*\n",
    "In this case we simply have to create a graph with heroes and comics as nodes, there is and edge between a hero and a comic only if the hero has appered in that comic."
   ]
  },
  {
   "cell_type": "code",
   "execution_count": 34,
   "id": "d6e81d1e-c680-4c54-8045-5e551f1decb8",
   "metadata": {
    "tags": []
   },
   "outputs": [
    {
     "data": {
      "text/plain": [
       "0             2001 10\n",
       "1              2001 8\n",
       "2              2001 9\n",
       "7               A '00\n",
       "8               A '01\n",
       "             ...     \n",
       "19021    YOUNG MEN 24\n",
       "19022    YOUNG MEN 25\n",
       "19023    YOUNG MEN 26\n",
       "19024    YOUNG MEN 27\n",
       "19025    YOUNG MEN 28\n",
       "Name: node, Length: 12651, dtype: object"
      ]
     },
     "execution_count": 34,
     "metadata": {},
     "output_type": "execute_result"
    }
   ],
   "source": [
    "df_nodes[df_nodes.type=='comic'].node"
   ]
  },
  {
   "cell_type": "code",
   "execution_count": 5,
   "id": "b3ed7d90-293e-43d7-b795-7c0e50eb80ca",
   "metadata": {
    "collapsed": true,
    "jupyter": {
     "outputs_hidden": true
    },
    "tags": []
   },
   "outputs": [],
   "source": [
    "set(df_nodes[df_nodes.type=='hero'].node)"
   ]
  },
  {
   "cell_type": "code",
   "execution_count": 6,
   "id": "94726e28-27b8-4a09-819c-48a995f81034",
   "metadata": {},
   "outputs": [
    {
     "name": "stderr",
     "output_type": "stream",
     "text": [
      "C:\\Users\\Angelo\\AppData\\Local\\Temp/ipykernel_18168/533129435.py:10: DeprecationWarning: info is deprecated and will be removed in version 3.0.\n",
      "\n",
      "  nx.info(Graph_2)\n"
     ]
    },
    {
     "data": {
      "text/plain": [
       "'Graph with 19089 nodes and 96104 edges'"
      ]
     },
     "execution_count": 6,
     "metadata": {},
     "output_type": "execute_result"
    }
   ],
   "source": [
    "#initialize an undirected Graph\n",
    "Graph_2 = nx.Graph()\n",
    "\n",
    "#add heroes and comics as nodes\n",
    "Graph_2.add_nodes_from(list((df_nodes.node).unique()))\n",
    "\n",
    "#add an edge between a hero and a comic if the hero appears in that comic\n",
    "Graph_2.add_edges_from(list(zip(list(df_edges.hero),list(df_edges.comic))))\n",
    "\n",
    "nx.info(Graph_2)"
   ]
  },
  {
   "cell_type": "markdown",
   "id": "196aa70c-23dd-4ce5-95ec-4483ca4835c3",
   "metadata": {},
   "source": [
    "## **2. Backend Implementation**"
   ]
  },
  {
   "cell_type": "markdown",
   "id": "99aa660a-aea3-42da-b29d-e5a0b3806128",
   "metadata": {},
   "source": [
    "As requested, to reduce computation time and improve network visualization, we wil consider the data for only top N heros. We define the top N heroes as the heroes who have appeared in the most number of comics."
   ]
  },
  {
   "cell_type": "code",
   "execution_count": 7,
   "id": "91d518fc-7f2d-4b36-ab58-e6e2c3052bfe",
   "metadata": {},
   "outputs": [],
   "source": [
    "def Top_N_heroes(N,df_edges):\n",
    "    degree_nodes = df_edges.groupby('hero').size().reset_index()\n",
    "    degree_nodes.rename(columns={0: \"size\"},inplace=True)\n",
    "    first_N_heroes = list((degree_nodes.sort_values(by=\"size\",ascending=False).head(N).hero))\n",
    "    return(first_N_heroes)"
   ]
  },
  {
   "cell_type": "markdown",
   "id": "3d6773fc-c8f0-4052-acce-20a2f3bb8b8e",
   "metadata": {},
   "source": [
    "To simplify the code in the functionalities below we can also define some functions to build the subgraphs"
   ]
  },
  {
   "cell_type": "code",
   "execution_count": 8,
   "id": "7eeb866c-1285-47ba-85da-994f05bec71f",
   "metadata": {},
   "outputs": [
    {
     "data": {
      "text/html": [
       "<div>\n",
       "<style scoped>\n",
       "    .dataframe tbody tr th:only-of-type {\n",
       "        vertical-align: middle;\n",
       "    }\n",
       "\n",
       "    .dataframe tbody tr th {\n",
       "        vertical-align: top;\n",
       "    }\n",
       "\n",
       "    .dataframe thead th {\n",
       "        text-align: right;\n",
       "    }\n",
       "</style>\n",
       "<table border=\"1\" class=\"dataframe\">\n",
       "  <thead>\n",
       "    <tr style=\"text-align: right;\">\n",
       "      <th></th>\n",
       "      <th>hero</th>\n",
       "      <th>comic</th>\n",
       "    </tr>\n",
       "  </thead>\n",
       "  <tbody>\n",
       "    <tr>\n",
       "      <th>37129</th>\n",
       "      <td>INVISIBLE WOMAN/SUE</td>\n",
       "      <td>A 1</td>\n",
       "    </tr>\n",
       "    <tr>\n",
       "      <th>37130</th>\n",
       "      <td>INVISIBLE WOMAN/SUE</td>\n",
       "      <td>A 12</td>\n",
       "    </tr>\n",
       "    <tr>\n",
       "      <th>37131</th>\n",
       "      <td>INVISIBLE WOMAN/SUE</td>\n",
       "      <td>A 127</td>\n",
       "    </tr>\n",
       "    <tr>\n",
       "      <th>37132</th>\n",
       "      <td>INVISIBLE WOMAN/SUE</td>\n",
       "      <td>A 128</td>\n",
       "    </tr>\n",
       "    <tr>\n",
       "      <th>37133</th>\n",
       "      <td>INVISIBLE WOMAN/SUE</td>\n",
       "      <td>A 13</td>\n",
       "    </tr>\n",
       "    <tr>\n",
       "      <th>...</th>\n",
       "      <td>...</td>\n",
       "      <td>...</td>\n",
       "    </tr>\n",
       "    <tr>\n",
       "      <th>37886</th>\n",
       "      <td>INVISIBLE WOMAN/SUE</td>\n",
       "      <td>X 71</td>\n",
       "    </tr>\n",
       "    <tr>\n",
       "      <th>37887</th>\n",
       "      <td>INVISIBLE WOMAN/SUE</td>\n",
       "      <td>XF 5</td>\n",
       "    </tr>\n",
       "    <tr>\n",
       "      <th>37888</th>\n",
       "      <td>INVISIBLE WOMAN/SUE</td>\n",
       "      <td>X:HY 20</td>\n",
       "    </tr>\n",
       "    <tr>\n",
       "      <th>37889</th>\n",
       "      <td>INVISIBLE WOMAN/SUE</td>\n",
       "      <td>X:HY 9</td>\n",
       "    </tr>\n",
       "    <tr>\n",
       "      <th>37890</th>\n",
       "      <td>INVISIBLE WOMAN/SUE</td>\n",
       "      <td>XM 59</td>\n",
       "    </tr>\n",
       "  </tbody>\n",
       "</table>\n",
       "<p>762 rows × 2 columns</p>\n",
       "</div>"
      ],
      "text/plain": [
       "                      hero    comic\n",
       "37129  INVISIBLE WOMAN/SUE      A 1\n",
       "37130  INVISIBLE WOMAN/SUE     A 12\n",
       "37131  INVISIBLE WOMAN/SUE    A 127\n",
       "37132  INVISIBLE WOMAN/SUE    A 128\n",
       "37133  INVISIBLE WOMAN/SUE     A 13\n",
       "...                    ...      ...\n",
       "37886  INVISIBLE WOMAN/SUE     X 71\n",
       "37887  INVISIBLE WOMAN/SUE     XF 5\n",
       "37888  INVISIBLE WOMAN/SUE  X:HY 20\n",
       "37889  INVISIBLE WOMAN/SUE   X:HY 9\n",
       "37890  INVISIBLE WOMAN/SUE    XM 59\n",
       "\n",
       "[762 rows x 2 columns]"
      ]
     },
     "execution_count": 8,
     "metadata": {},
     "output_type": "execute_result"
    }
   ],
   "source": [
    "top = ['INVISIBLE WOMAN/SUE']\n",
    "a = df_edges.hero.apply(lambda h: any([i in h for i in top]))\n",
    "df_edges[a]"
   ]
  },
  {
   "cell_type": "code",
   "execution_count": 9,
   "id": "cff97d2e-55e1-4c0f-baa3-2649b30fc390",
   "metadata": {},
   "outputs": [
    {
     "data": {
      "text/plain": [
       "12651"
      ]
     },
     "execution_count": 9,
     "metadata": {},
     "output_type": "execute_result"
    }
   ],
   "source": [
    "\n",
    "len(set(Graph_2.nodes).intersection(set(df_nodes[df_nodes.type=='comic'].node)))"
   ]
  },
  {
   "cell_type": "code",
   "execution_count": 10,
   "id": "293836b2-8e78-4e2b-90d6-8ee713f7eb71",
   "metadata": {},
   "outputs": [],
   "source": [
    "def get_subgraph_1(graph_data, top_N_heroes):\n",
    "    #take the subgraph with only the top N heroes as nodes\n",
    "    graph = Graph_1reduce.subgraph(top_N_heroes)\n",
    "    return graph\n",
    "\n",
    "\n",
    "def get_subgraph_2(graph_data, top_N_heroes):\n",
    "    #get the position of the comics in which at least one of the top N heroes is present\n",
    "    pos = graph_data.hero.apply(lambda h: any([i in h for i in top_N_heroes]))\n",
    "    #get the names of those comics\n",
    "    top_comics = graph_data[pos].comic\n",
    "    #take the subgraph\n",
    "    graph = Graph_2.subgraph(list(top_N_heroes) + list(top_comics))\n",
    "    return graph"
   ]
  },
  {
   "cell_type": "markdown",
   "id": "1baa0275-80e6-4900-9530-c5f537030c6d",
   "metadata": {},
   "source": [
    "### Functionality 1 - extract the graph's features\n",
    "Input: \n",
    "* The graph data\n",
    "* The graph type (ex., number 1 or number 2)\n",
    "* N: denoting the top N heroes that their data should be considered\n",
    "\n",
    "Output:\n",
    "* The number of nodes in the network (if type 2, report for both node types)\n",
    "* The number of collaborations of each superhero with the others (only if type 1)\n",
    "* The number of heroes that have appeared in each comic (only if type 2)\n",
    "* The network's density\n",
    "* The network's degree distribution\n",
    "* The average degree of the network\n",
    "* The network's Hubs (hubs are nodes having degrees more extensive than the 95th percentile of the degree distribution)\n",
    "* Whether the Network is sparse or dense\n",
    "\n",
    "Depending on the graph that we are considering, we are interested in different features, so we implemented two different functions at support of the requested one.\n"
   ]
  },
  {
   "cell_type": "code",
   "execution_count": 11,
   "id": "1e8641f2-b117-4dfa-be82-5ae19b4cba9c",
   "metadata": {},
   "outputs": [],
   "source": [
    "def features_type_1(graph):\n",
    "    '''\n",
    "    Function that returns the features of interest for the graphs of type 1\n",
    "    '''\n",
    "    \n",
    "    #get the number of nodes in the graph\n",
    "    n_nodes = graph.number_of_nodes()\n",
    "    \n",
    "    #get the number of collaborations of each hero with the others\n",
    "    collaborations = {}\n",
    "    for hero in graph.nodes:\n",
    "        collaborations[hero] = sum([1/graph[u][v]['weight'] for u,v in graph.edges(hero)])\n",
    "        \n",
    "    #get the density of the graph\n",
    "    density = (2*len(graph.edges))/((n_nodes)*(n_nodes-1))\n",
    "    \n",
    "    #get the degrees of the nodes (useful for the degree distribution)\n",
    "    degrees = [graph.degree(n) for n in graph.nodes()]\n",
    "    \n",
    "    #average degree\n",
    "    average_degree = sum(degrees)/n_nodes\n",
    "    \n",
    "    #get hubs\n",
    "    #1. get the 95th percentile\n",
    "    p = np.percentile(np.array(degrees), 95)\n",
    "    hubs = []\n",
    "    for n in graph.nodes:\n",
    "        if graph.degree(n) > p:\n",
    "            hubs.append(n)        \n",
    "            \n",
    "    #dense / sparse network\n",
    "    is_dense = density > 0.9\n",
    "    \n",
    "    return [n_nodes, collaborations, density, degrees, average_degree, hubs, is_dense]"
   ]
  },
  {
   "cell_type": "code",
   "execution_count": 12,
   "id": "4d952c1e-2ddc-4776-81fd-fc2b9fca405a",
   "metadata": {},
   "outputs": [],
   "source": [
    "def features_type_2(graph, top_N_heroes):\n",
    "    '''\n",
    "    Function that returns the features of interest for the graphs of type 2\n",
    "    '''\n",
    "    #comic nodes\n",
    "    comics = set(graph.nodes).intersection(set(df_nodes[df_nodes.type=='comic'].node))\n",
    "    #hero-nodes\n",
    "    #heroes = set(graph.nodes).intersection(set(df_nodes[df_nodes.type=='hero'].node))\n",
    "    heroes = top_N_heroes\n",
    "    \n",
    "    #get number of comic nodes\n",
    "    n_comics = len(comics)\n",
    "    #get number of hero nodes\n",
    "    n_heroes = len(heroes)\n",
    "    \n",
    "    #get the number of heroes per comic\n",
    "    appearances = {}\n",
    "    for comic in comics:\n",
    "        count = 0\n",
    "        for u,v in graph.edges(comic):\n",
    "            if v in heroes:\n",
    "                count += 1\n",
    "        appearances[comic] = count\n",
    "        \n",
    "        \n",
    "    #get the density of the graph\n",
    "    density = (2*len(graph.edges))/((n_comics+n_heroes)*(n_comics+n_heroes-1))\n",
    "    \n",
    "    #get the degrees of the nodes (useful for the degree distribution)\n",
    "    degrees = [graph.degree(n) for n in graph.nodes()]\n",
    "    \n",
    "    #average degree\n",
    "    average_degree = sum(degrees)/(n_comics + n_heroes)\n",
    "    \n",
    "    #get hubs\n",
    "    #1. get the 95th percentile\n",
    "    p = np.percentile(np.array(degrees), 95)\n",
    "    hubs = []\n",
    "    for n in graph.nodes:\n",
    "        if graph.degree(n) > p:\n",
    "            hubs.append(n)\n",
    "            \n",
    "    #dense / sparse network\n",
    "    is_dense = density > 0.9\n",
    "    \n",
    "    return [{'comics': n_comics, 'heroes': n_heroes}, appearances, density, degrees, average_degree, hubs, is_dense]"
   ]
  },
  {
   "cell_type": "code",
   "execution_count": 13,
   "id": "ae6e6dd2-d914-4607-b2ea-c2677b0e9309",
   "metadata": {},
   "outputs": [],
   "source": [
    "def graph_features(graph_data, type_graph, N):\n",
    "    \n",
    "    #get the heroes-nodes to consider\n",
    "    top_N_heroes = Top_N_heroes(N, df_edges)\n",
    "    \n",
    "    if(type_graph==1):\n",
    "        graph = get_subgraph_1(graph_data, top_N_heroes)\n",
    "        return features_type_1(graph)\n",
    "    else:\n",
    "        graph = get_subgraph_2(graph_data, top_N_heroes)\n",
    "        return features_type_2(graph, top_N_heroes)\n",
    "    "
   ]
  },
  {
   "cell_type": "markdown",
   "id": "c4681440",
   "metadata": {},
   "source": [
    "### Functionality 3 - Shortest ordered Route\n",
    "Input:\n",
    "\n",
    "* The graph data\n",
    "* A sequence of superheroes h = [h_2, ..., h_n-1]\n",
    "* Initial node h_1 and an end node h_n\n",
    "* N: denoting the top N heroes that their data should be considered\n",
    "\n",
    "Output:\n",
    "* The shortest walk of comics that you need to read to get from hero_1 to hero_n \n",
    "\n",
    "Considerations: For this functionality, you need to implement an algorithm that returns the shortest walk that goes from node h_j to h_n, which\\\n",
    " visits in order the nodes in h. The choice of h_j and h_n can be made randomly (or if it improves the performance of the algorithm, you can also\\\n",
    " define it in any other way)\n",
    "\n",
    "Important Notes:\n",
    "\n",
    "* This algorithm should be run only on the second graph.\n",
    "* The algorithm needs to handle the case that the graph is not connected. Thus, only some of the nodes in h are reachable from h_1. In such \\\n",
    "a scenario, it is enough to let the program give in the output the string \"There is no such path\".\n",
    "* Since we are dealing with walks, you can pass on the same node h_i more than once, but you have to preserve order. E.g., if you start from\\\n",
    " Spiderman to reach deadpool, and your path requires you to visit iron-man and colossus, you can go back to any comics any time you \\\n",
    " want, assuming that the order in which you visit the heroes is still the same."
   ]
  },
  {
   "cell_type": "code",
   "execution_count": 14,
   "id": "c640be90",
   "metadata": {},
   "outputs": [],
   "source": [
    "def dijkstra(G, init, end):\n",
    "    # Initialize distances and predecessors\n",
    "    dist = {vertex: float('inf') for vertex in G}\n",
    "    prev = {vertex: None for vertex in G}\n",
    "    dist[init] = 0\n",
    "\n",
    "    Queue = []\n",
    "    for vertex in G:\n",
    "        Queue.append((dist[vertex], vertex))\n",
    "    heapify(Queue)\n",
    "\n",
    "    # Loop until the priority queue is empty\n",
    "    while Queue:\n",
    "        # Extract the vertex with the smallest distance\n",
    "        u = heappop(Queue)[1]\n",
    "\n",
    "        # Update the distances of the neighbors\n",
    "        for v,null in G[u].items():\n",
    "            alt = dist[u] \n",
    "            if alt < dist[v]:\n",
    "                dist[v] = alt\n",
    "                prev[v] = u\n",
    "                # Update the priority queue\n",
    "                Queue = [(dist[vertex], vertex) for vertex in G]\n",
    "                heapify(Queue)\n",
    "\n",
    "    # Construct the shortest path\n",
    "    path = []\n",
    "    u = end\n",
    "    while prev[u]:\n",
    "        path.append(u)\n",
    "        u = prev[u]\n",
    "    path.append(init)\n",
    "    return path[::-1]"
   ]
  },
  {
   "cell_type": "code",
   "execution_count": 15,
   "id": "350b8c0b",
   "metadata": {},
   "outputs": [],
   "source": [
    "def Shortest_Path_Comics(graph_data,seq_heroes,init_nodo,end_node,N):\n",
    "    Shortest_OR = [init_nodo]\n",
    "    first_N_heroes = Top_N_heroes(N,graph_data)\n",
    "    New_dataset = df_edges[df_edges['hero'].isin(first_N_heroes)]\n",
    "    Graph_3 = nx.Graph()\n",
    "    Graph_3.add_edges_from(list(zip(list(New_dataset.hero),list(New_dataset.comic))))\n",
    "    seq_heroes=[init_nodo]+seq_heroes+[end_node]\n",
    "    for i in range(1,len(seq_heroes)):\n",
    "        if((Graph_3.has_node(seq_heroes[i-1])) & (Graph_3.has_node(seq_heroes[i]))):\n",
    "            Shortest_OR += dijkstra(Graph_3,seq_heroes[i-1],seq_heroes[i])[1:]\n",
    "            #[Graph_3_copy.remove_nodes_from(Shortest_OR[:-1])\n",
    "        else:\n",
    "            print(\"There is no such path.\")\n",
    "            break\n",
    "    return(Shortest_OR,Graph_3)\n"
   ]
  },
  {
   "cell_type": "markdown",
   "id": "1833bcd4-d987-4ffa-b6be-6320c08ef3f5",
   "metadata": {},
   "source": [
    "### Functionality 4 - Disconnecting Graphs\n",
    "Input: \n",
    "* The graph data\n",
    "* heroA: a superhero to which will relate sub-graph G_a\n",
    "* heroB: a superhero to which will relate sub-graph G_b\n",
    "* N: denoting the top N heroes that their data should be considered\n",
    "\n",
    "Output:\n",
    "* The minimum number of links (by considering their weights) required to disconnect the original graph in two disconnected subgraphs: G_a and G_b."
   ]
  },
  {
   "cell_type": "code",
   "execution_count": 272,
   "id": "9a569fc1-880a-450f-9f47-0ddeb0a932eb",
   "metadata": {},
   "outputs": [],
   "source": [
    "def disconnect_graph(graph_data, heroA, heroB, N):\n",
    "    \n",
    "    #get the heroes-nodes to consider\n",
    "    top_N_heroes = Top_N_heroes(N, df_edges)\n",
    "    \n",
    "    if (heroA not in top_N_heroes) or (heroB not in top_N_heroes):\n",
    "        raise ValueError(\"The two heroes are not present in the graph\")\n",
    "    \n",
    "    original = get_subgraph_1(graph_data, top_N_heroes)\n",
    "    modified = nx.Graph(original)\n",
    "    \n",
    "    count = 0\n",
    "    while nx.has_path(modified, heroA, heroB):\n",
    "        path = nx.shortest_path(modified, heroA, heroB)\n",
    "        weights = [modified[path[i]][path[i+1]]['weight'] for i,node in enumerate(path[:-1])]\n",
    "        min_value = min(weights)\n",
    "        min_idx = weights.index(min_value)\n",
    "        modified.remove_edge(path[min_idx], path[min_idx+1])\n",
    "        count += min_value\n",
    "        \n",
    "    return (count, original, modified)\n",
    "    "
   ]
  },
  {
   "cell_type": "markdown",
   "id": "7d9121cd-efd4-461d-a916-03108d5b30e9",
   "metadata": {},
   "source": [
    "## **3. Frontend Implementation**"
   ]
  },
  {
   "cell_type": "markdown",
   "id": "b7b89b1a-8afb-4aec-abbc-6484ad7c429a",
   "metadata": {},
   "source": [
    "### Visualization 1 - Visualize some features of the network\n",
    "* A table containing the following general information about the graph:\n",
    "    * Number of nodes in the network\n",
    "    * Density of the network\n",
    "    * Average degree of the network\n",
    "    * Whether the network is sparse or dense\n",
    "    \n",
    "* A table that lists the network's hubs\n",
    "\n",
    "* A plot depicting the number of collaborations of each hero in descending order (if the graph is type 1)\n",
    "\n",
    "* A plot depicting the number of heroes who appeared in each comic, sorted in descending order (if the graph is type 2)\n",
    "\n",
    "* A plot depicting the degree distribution of the network"
   ]
  },
  {
   "cell_type": "markdown",
   "id": "820ba7cf-fffa-48b3-b8b6-083b2b1fbf8f",
   "metadata": {},
   "source": [
    "We are going to plot an example with both the graph types.<br>\n",
    "Let's define a function that we can call to do the visualization."
   ]
  },
  {
   "cell_type": "code",
   "execution_count": 267,
   "id": "59113eb3-82f7-4f1c-9dbf-76e2214548e4",
   "metadata": {},
   "outputs": [],
   "source": [
    "from tabulate import tabulate\n",
    "\n",
    "def visualize_features():\n",
    "    #take the graph data desired\n",
    "    graph_data_name = input(\"Enter the dataframe that you want to use:\")\n",
    "\n",
    "    #take the type of graph desired\n",
    "    type_graph = int(input(\"Enter the type of graph that you want to build (1 or 2): \"))\n",
    "\n",
    "    #check if the input is consistent\n",
    "    if graph_data_name == 'df_hero_noduplicate' and type_graph==1:\n",
    "        graph_data = df_hero_noduplicate\n",
    "    elif graph_data_name == 'df_edges' and type_graph==2:\n",
    "        graph_data = df_edges\n",
    "    else:\n",
    "        raise ValueError(\"Input is not correct!\")\n",
    "\n",
    "    #take the N heroes more influent\n",
    "    N = int(input(\"Enter the number of top heroes to consider: \"))\n",
    "    \n",
    "    #get the features to plot\n",
    "    res = graph_features(graph_data, type_graph, N)\n",
    "    \n",
    "    #PLOT\n",
    "    if type_graph==1:\n",
    "        title2 = 'Number of collaborations of each hero'\n",
    "    else:\n",
    "        title2 = 'Number of heroes who appeared in each comic'\n",
    "    \n",
    "    #print the table\n",
    "    table = [['number of nodes', 'density', 'avg degree', 'is dense?'], [res[0], res[2], res[4], res[6]]]\n",
    "    print(tabulate(table, headers='firstrow', tablefmt='fancy_grid'))\n",
    "    \n",
    "    #print the hubs\n",
    "    print('Hubs:', res[5])\n",
    "    \n",
    "    #plot degree distrbution and appearences/collaborations\n",
    "    fig, (ax1, ax2) = plt.subplots(1, 2, figsize=(16, 8), tight_layout=True)\n",
    "    #degree distribution\n",
    "    if type_graph==2:\n",
    "        ax1.set_xlim(0,30)\n",
    "    ax1.hist(res[3], bins = max(res[3]))\n",
    "    ax1.set_title('Degree distribution')\n",
    "    #appearences/collaborations\n",
    "    s = dict(sorted(res[1].items(), key=lambda item: item[1]))\n",
    "    ax2.plot(s.keys(), s.values())\n",
    "    ax2.set_title(title2)\n",
    "    \n",
    "    plt.show()"
   ]
  },
  {
   "cell_type": "markdown",
   "id": "28635364-45d7-4079-9a79-5b78ccb8ca88",
   "metadata": {},
   "source": [
    "#### *Example of visualization with graph of type 1*"
   ]
  },
  {
   "cell_type": "code",
   "execution_count": 268,
   "id": "0d03c44b-aa39-469e-8a5e-d21af8d31ea3",
   "metadata": {
    "tags": []
   },
   "outputs": [
    {
     "name": "stdout",
     "output_type": "stream",
     "text": [
      "Enter the dataframe that you want to use: df_hero_noduplicate\n",
      "Enter the type of graph that you want to build (1 or 2):  1\n",
      "Enter the number of top heroes to consider:  50\n",
      "╒═══════════════════╤═══════════╤══════════════╤═════════════╕\n",
      "│   number of nodes │   density │   avg degree │ is dense?   │\n",
      "╞═══════════════════╪═══════════╪══════════════╪═════════════╡\n",
      "│                50 │  0.974694 │        47.76 │ True        │\n",
      "╘═══════════════════╧═══════════╧══════════════╧═════════════╛\n",
      "Hubs: []\n"
     ]
    },
    {
     "data": {
      "image/png": "[encoded data removed]",
      "text/plain": [
       "<Figure size 1152x576 with 2 Axes>"
      ]
     },
     "metadata": {
      "needs_background": "light"
     },
     "output_type": "display_data"
    }
   ],
   "source": [
    "visualize_features()"
   ]
  },
  {
   "cell_type": "markdown",
   "id": "010b8c20-c46b-4780-90c9-0b42459f2023",
   "metadata": {},
   "source": [
    "#### *Example of visualization with graph of type 2*"
   ]
  },
  {
   "cell_type": "code",
   "execution_count": 269,
   "id": "bafed24d-95f1-4868-98f6-dc6d39e860d7",
   "metadata": {},
   "outputs": [
    {
     "name": "stdout",
     "output_type": "stream",
     "text": [
      "Enter the dataframe that you want to use: df_edges\n",
      "Enter the type of graph that you want to build (1 or 2):  2\n",
      "Enter the number of top heroes to consider:  50\n",
      "╒════════════════════════════════╤═════════════╤══════════════╤═════════════╕\n",
      "│ number of nodes                │     density │   avg degree │ is dense?   │\n",
      "╞════════════════════════════════╪═════════════╪══════════════╪═════════════╡\n",
      "│ {'comics': 9315, 'heroes': 50} │ 0.000632062 │      5.91863 │ False       │\n",
      "╘════════════════════════════════╧═════════════╧══════════════╧═════════════╛\n",
      "Hubs: ['A3 23', 'UX 145', 'HULK/DR. ROBERT BRUC', 'UX 191', 'A 280', 'A 144', 'SMTU 4', 'H2 321', 'MARVELS 3', 'A 167', 'A 221', 'A 8', 'A 21', 'ASM 16', 'TOS 49', 'A 3', 'M/TE 13', \"UTSM '97\", 'XF 70', 'A 165', 'A 166', 'X 95', 'X 3', 'A 189', 'A 1.5', 'H2 152', 'FF 242', 'A3 43', 'GAL 3', 'A 53', 'A 59', 'N 1/3', 'M/TIO 96', 'A 162', 'STORM/ORORO MUNROE S', 'COLOSSUS II/PETER RA', 'A 156', 'FF 243', 'M/TU 4', 'GAL 2', 'UX 337', 'UX 135', 'SVTU 9', 'CA 401', 'A 157', 'M/SHSW 6', 'CAPTAIN AMERICA', 'NELSON, FRANKLIN FOG', 'GAL 1', 'SUB-MARINER/NAMOR MA', 'M/GN 27', 'A:C', 'A 7', 'QUICKSILVER/PIETRO M', 'H 11', 'A3 11', 'DAZZ 2', 'X 55', 'AOI', 'UX 335', 'IFW 2', 'A 155', 'PROFESSOR X/CHARLES', 'M/CP 89/4', 'WASP/JANET VAN DYNE', 'ODIN [ASGARDIAN]', 'UX 138', 'WONDER MAN/SIMON WIL', 'UX 11', 'A 177', 'XU 25', 'FF 400/2', 'H2 279', 'AF 111', 'M/SHSW 5', 'UX 272', 'INVISIBLE WOMAN/SUE', 'M/SHSW 2', 'WATSON-PARKER, MARY', 'DEF2 1', 'MAXSEC 1', 'A3 22', 'FF2 12', 'A 329', 'A 176', 'MK3 41', 'ASM 3', 'H2 434', 'FFV.X 2', 'A 182', 'IW 2', 'A 333', 'A 45', 'GAL 4', 'PM&IF 125', 'DF 3.6', 'A 12', 'X 1', 'FF 367', 'DD2 8', 'DAREDEVIL/MATT MURDO', 'A 60', 'A 332', 'X 5', 'A 127', 'A 171', 'A 159', 'A2 12', 'THING/BENJAMIN J. GR', 'A3 34', 'GAL 6', 'FURY, COL. NICHOLAS', 'A 308', 'M/SHSW 1', 'UX 368', 'NW 27', 'JARVIS, EDWIN', 'ANGEL/WARREN KENNETH', 'A 116', 'A 1', 'A 170', 'Q 38', 'A3 25', 'DEF 11', 'IRON MAN/TONY STARK', 'A 13', 'WM2 14', 'A 94', 'UX 12', 'M/SHSW 12', 'M/TIO 69', 'A 345', 'HUMAN TORCH/JOHNNY S', 'M/SHSW 4', 'Q 39', 'IM2 12', 'SWII 9', 'UX 9', 'A 137', 'JAMESON, J. JONAH', 'X 88', 'SS3 14', 'ANT-MAN/DR. HENRY J.', 'SPIDER-MAN/PETER PAR', 'A 14', 'HR:R 2', 'WM2 15', 'A 100', 'A 82', 'UX 336', 'UX 45', 'M/SHSW 11', 'A 199', 'A 242', 'UX 7', 'SHE-HULK/JENNIFER WA', 'A 38', 'FF 14', 'SHADOWCAT/KATHERINE', 'DAMCON3 4', 'IG 6', 'UX 167', 'NIGHTCRAWLER/KURT WA', 'FFV.X 4', 'IW 1', 'UX 294', 'BLACK WIDOW/NATASHA', 'DR. STRANGE/STEPHEN', 'HR:R 3', 'M/GN 1', 'FF 28', 'PUNISHER II/FRANK CA', 'SS 6', \"A '99\", 'UX 295', 'MR. FANTASTIC/REED R', 'TB 10', 'PARKER, MAY', 'A 111', 'ASM 1', 'IW 3', 'UX 375', 'M/TIO 75', 'IW 5', 'A 400', 'FF 150', 'A 200', 'SWII 5', 'Q 28', 'SUB-M2 3', 'DEF 10', 'TB 11', 'COH 3', 'SWII 8', 'A 9', 'IG 3', 'A 175', 'TB 44', 'DAZZ 1', 'X 71', 'ASM2 1', 'AWC 5', 'A 88', 'M/SHSW 8', 'HAWK', 'A 99', 'ROM 23', 'XF 84', 'SCARLET WITCH/WANDA', 'X 98', 'A3 10', 'M/SHSW 7', 'COC 1', 'A 395', 'A 42', 'A 118', \"BLACK PANTHER/T'CHAL\", 'X 56', 'T 271', 'MK 35', 'A 306', 'A 181', 'FF 369', 'XFOR 16', 'RICHARDS, FRANKLIN B', 'H2 445', 'SENSM 28', 'UX 6', 'H2 277', 'A 19', 'AWC 69', 'ROM 66', 'H2 153', 'X:PRIME', 'M/SHSW 3', 'A 15', 'H2 323', 'M/SS 1', 'H2 278', 'M/SHSW 10', 'A3 20', 'A 168', 'DD 164', 'O:MU', 'X 15', 'A 151', 'UX 108', 'THOR/DR. DONALD BLAK', 'BEAST/HENRY &HANK& P', 'FF 416', 'ROM 65', 'CYCLOPS/SCOTT SUMMER', 'M/GN 17', 'CA 250', 'FF 26', 'M/SHSW 9', 'A 18', 'ICEMAN/ROBERT BOBBY', 'UX 4', 'A 108', 'FF 368', 'MAXSEC 2', 'CA 383', 'CANNONBALL II/SAM GU', 'UX 338', \"M/H&L '97\", 'ST 156', 'M/TIO 2', 'XFOR 17', 'GAL 5', 'FF 230', 'FW 10/2', 'X:HY 9', 'X:HY 20', 'X&CD 1', 'A3 3', 'IW 4', 'IG 4', 'O:X', 'UX 13', 'VISION', 'A 201', 'ASM 18', 'A 16', 'UX 14', 'DAZZ 21', 'A 160', 'A3 39', 'UX 5', 'A3 2', 'KS', 'FFV.X 1', 'X 96', 'SVTU 14', 'ROGUE', 'COC 3', 'A 231', 'A 6', 'DEF 107', 'T 233', 'A 198', 'CA2 12', 'FFV.X 3', 'UX 377', 'A 172', 'UX 10', 'IG 2', 'FF3 23', 'A 234', 'FF 3', 'IW 6', 'SUB-M 14', 'A3 1', 'SUB-M 35', 'MARVEL GIRL/JEAN GRE', 'S-M 23', 'A 401', 'A 110', 'UX 8', 'A 10', 'WCA 1', 'CA3 3', 'CAPTAIN BRITAIN/BRIA', 'A 305', 'WIW 8', 'X 14', 'XF 5', 'FF 256', 'X 2', 'A 179', 'A 399', 'FF 25', 'W2 145', 'AWC 4', 'UX 190', 'X 57', 'A 233', 'FF 36', 'HERCULES [GREEK GOD]', 'WM2 13', 'MARVELS 2', 'DR. DOOM/VICTOR VON', 'FF 370', 'UX 3', 'SILVER SURFER/NORRIN', 'UX 325', 'A3 21', 'UX 280', 'ROBERTSON, JOE', 'UX 210', 'HR:R 4', 'PPSM2 4', 'A 174', 'T 14', 'A 161', 'UX 379', 'UX 376', 'FF 333', 'A3 38', 'UX 94', 'FF 415', 'FF 244', 'FF3 27', 'JONES, RICHARD MILHO', 'WOLVERINE/LOGAN', 'A 227', 'A 173', 'TB 12', 'A 211', 'A3 4', 'M/TIO 7', 'FF 22', 'WOSM 5', 'MAXSEC 3']\n"
     ]
    },
    {
     "data": {
      "image/png": "[encoded data removed]",
      "text/plain": [
       "<Figure size 1152x576 with 2 Axes>"
      ]
     },
     "metadata": {
      "needs_background": "light"
     },
     "output_type": "display_data"
    }
   ],
   "source": [
    "visualize_features()"
   ]
  },
  {
   "cell_type": "markdown",
   "id": "6cae0ca4-81e9-4119-8b12-38d06a379c33",
   "metadata": {},
   "source": [
    "<br>\n",
    "<br>"
   ]
  },
  {
   "cell_type": "markdown",
   "id": "68c99c6e-3ada-4182-a6c0-81ea47399e12",
   "metadata": {},
   "source": [
    "***Comments***: The main information that we can retrieve from the two visualizations are the fact that the graph of type 1 is dense while the graph of type 2 is sparse, and also that the average degree is higher in the case of the graph 1. We can infer that in average each hero has collaborated with a lot of other heroes, while each comic is mainly about only one hero (we can see in the plot that almost 40% of all the comics contain only one hero)"
   ]
  },
  {
   "cell_type": "markdown",
   "id": "3a460457",
   "metadata": {},
   "source": [
    "### Visualization 3 - Visualize the shortest-ordered route\n",
    "We anticipate seeing the Functionality 3 report in Visualization 3. To be more specific, we expect you to have the following report format:\n",
    "\n",
    "* Print the comics in the shortest walk in order\n",
    "* Plot the graph and identify the nodes and edges that appear in the shortest walk (please put an identifier on each edge in the shortest walk to determine the order that we should have the walk)"
   ]
  },
  {
   "cell_type": "code",
   "execution_count": 16,
   "id": "1b04d4c5",
   "metadata": {},
   "outputs": [],
   "source": [
    "def give_order_path(path):\n",
    "    count = 0\n",
    "    sub_hero = nx.Graph()\n",
    "    for i in range(1,len(path)):\n",
    "        count+=1\n",
    "        if sub_hero.has_edge(path[i-1],path[i]):\n",
    "            sub_hero[path[i-1]][path[i]]['peso'] += '-'+str(count)\n",
    "        else:\n",
    "            sub_hero.add_edge(path[i-1], path[i], peso=str(count))\n",
    "    return(sub_hero)"
   ]
  },
  {
   "cell_type": "code",
   "execution_count": 17,
   "id": "75c5cdc3",
   "metadata": {},
   "outputs": [],
   "source": [
    "def plot_graph(sub_hero):\n",
    "    pos = nx.spring_layout(sub_hero,seed=7)  # positions for all nodes - seed for reproducibility\n",
    "    plt.rcParams[\"figure.figsize\"]=(10,5)\n",
    "    # nodes\n",
    "    nx.draw_networkx_nodes(sub_hero, pos,node_color='yellow', node_size=300)\n",
    "\n",
    "    # edges\n",
    "    nx.draw_networkx_edges(sub_hero, pos,width=4)\n",
    "    nx.draw_networkx_edges(sub_hero, pos, width=4, alpha=0.5, edge_color=\"blue\")\n",
    "\n",
    "    # node labels\n",
    "    nx.draw_networkx_labels(sub_hero, pos, font_size=10, font_family=\"sans-serif\")\n",
    "    # edge weight labels\n",
    "    edge_labels = nx.get_edge_attributes(sub_hero, \"peso\")\n",
    "    nx.draw_networkx_edge_labels(sub_hero, pos, edge_labels,font_color='red',font_size=15)\n",
    "\n",
    "    ax = plt.gca()\n",
    "    ax.margins(0.08)\n",
    "    #plt.axis(\"off\")\n",
    "    plt.tight_layout()\n",
    "    plt.show()"
   ]
  },
  {
   "cell_type": "code",
   "execution_count": 18,
   "id": "ddf7dd63",
   "metadata": {},
   "outputs": [],
   "source": [
    "def input_visualization_3():\n",
    "    graph_data = input(\"Enter the desidered graph:(In this case only '2' is allowed) \")\n",
    "    if graph_data=='2':\n",
    "        graph_data = df_edges\n",
    "    else:\n",
    "        raise ValueError(\"Re-run the cell, input not correct\")\n",
    "        sys.exit()\n",
    "    N = int(input(\"Enter the top N heroes that we should considered: \"))\n",
    "    if(N<0 or N>Graph_2.number_of_nodes()):\n",
    "        N=Graph_2.number_of_nodes()\n",
    "    first_N_heroes = Top_N_heroes(N,graph_data)\n",
    "    init_nodo = input(\"Enter the initial hero node: \")\n",
    "    if(init_nodo not in first_N_heroes):\n",
    "        raise ValueError(\"Re-run the cell, input not correct\")\n",
    "        sys.exit()\n",
    "    end_nodo = input(\"Enter the hero end node: \")\n",
    "    if(end_nodo not in first_N_heroes):\n",
    "        raise ValueError(\"Re-run the cell, input not correct\")\n",
    "        sys.exit()\n",
    "    seq_heroes = []\n",
    "    n = int(input(\"Enter the list size \\n\"))\n",
    "    for i in range(0, n):\n",
    "        print(\"Enter hero at index\", i, )\n",
    "        hero= input()\n",
    "        seq_heroes.append(hero)\n",
    "    print(\"User list is \", [init_nodo]+seq_heroes+[end_nodo])\n",
    "    for elem in seq_heroes:\n",
    "        if elem not in first_N_heroes:\n",
    "            raise ValueError(\"Re-run the cell, input not correct\")\n",
    "            sys.exit()\n",
    "    return(graph_data,seq_heroes,init_nodo,end_nodo,N)"
   ]
  },
  {
   "cell_type": "code",
   "execution_count": 19,
   "id": "cfbf1ac1",
   "metadata": {},
   "outputs": [],
   "source": [
    "def visualization_3(graph_data,seq_heroes,init_nodo,end_nodo,N):\n",
    "    first_N_heroes = Top_N_heroes(N,graph_data)\n",
    "    Shortest_OR,Graph_3 = Shortest_Path_Comics(graph_data,seq_heroes,init_nodo,end_nodo,N)\n",
    "    print(f'This is the connecting component we have found that start with {init_nodo} and ends at {end_nodo}:\\n'\n",
    "                ,Shortest_OR[1:-1])\n",
    "    print(\"If we want to visualize only a walk of comics then: \\n\",[item for item in Shortest_OR if item not in first_N_heroes])\n",
    "    sub_hero = give_order_path(Shortest_OR)\n",
    "    plot_graph(sub_hero)"
   ]
  },
  {
   "cell_type": "markdown",
   "id": "e3ae6a8c",
   "metadata": {},
   "source": [
    "### Let's have a test"
   ]
  },
  {
   "cell_type": "code",
   "execution_count": 20,
   "id": "c82976db",
   "metadata": {},
   "outputs": [
    {
     "name": "stdout",
     "output_type": "stream",
     "text": [
      "This is the connecting component we have found that start with SPIDER-MAN/PETER PAR and ends at THOR/DR. DONALD BLAK:\n",
      " ['A 11', 'CAPTAIN AMERICA', 'A 1', 'THING/BENJAMIN J. GR', 'A 1.5', 'SPIDER-MAN/PETER PAR', 'A 1.5']\n",
      "If we want to visualize only a walk of comics then: \n",
      " ['A 11', 'A 1', 'A 1.5', 'A 1.5']\n"
     ]
    },
    {
     "data": {
      "image/png": "[encoded data removed]",
      "text/plain": [
       "<Figure size 720x360 with 1 Axes>"
      ]
     },
     "metadata": {},
     "output_type": "display_data"
    }
   ],
   "source": [
    "graph_data = df_edges\n",
    "seq_heroes = ['CAPTAIN AMERICA', 'THING/BENJAMIN J. GR', 'SPIDER-MAN/PETER PAR']\n",
    "init_nodo = 'SPIDER-MAN/PETER PAR'\n",
    "end_nodo = 'THOR/DR. DONALD BLAK'\n",
    "N = 5\n",
    "visualization_3(graph_data,seq_heroes,init_nodo,end_nodo,N)"
   ]
  },
  {
   "cell_type": "markdown",
   "id": "94fb8b69-094c-493b-be29-ce9712bc1a66",
   "metadata": {},
   "source": [
    "### Visualization 4 - Visualize the disconnected graph"
   ]
  },
  {
   "cell_type": "markdown",
   "id": "28235c5e-a837-43f9-9404-1e40dec1e95b",
   "metadata": {},
   "source": [
    "* Print the number of the links that should be disconnected\n",
    "* Plot the original graph\n",
    "* Plot the graph after removing the links and identify the two nodes\n",
    "\n",
    "To make the plot of the two graphs easier we ask to the *disconnect_graph()* function to return also the original and the modified graphs."
   ]
  },
  {
   "cell_type": "code",
   "execution_count": 276,
   "id": "0c2f4fa7-b50e-4628-ab5f-e569ebfd88dc",
   "metadata": {},
   "outputs": [],
   "source": [
    "def visualize_disconnect():\n",
    "    #get the inputs\n",
    "    heroA = input('Enter the first hero:')\n",
    "    heroB = input('Enter the second hero:')\n",
    "    N = int(input(\"Enter the number of top heroes to consider: \"))\n",
    "    \n",
    "    #call the function\n",
    "    res = disconnect_graph(df_hero_noduplicate, heroA, heroB, N)\n",
    "    \n",
    "    #PLOT\n",
    "    #print number of links to disconnect\n",
    "    print('Number of links to disconnect (considering the weight):', res[0])\n",
    "    #print original graph\n",
    "    plt.figure(1)\n",
    "    nx.draw(ris[1], with_labels = True)\n",
    "    #print modified graph\n",
    "    plt.figure(2)\n",
    "    nx.draw(ris[2], with_labels = True)\n",
    "\n",
    "    plt.show()"
   ]
  },
  {
   "cell_type": "code",
   "execution_count": 277,
   "id": "b971885c-0b1c-40bd-acf4-a3a7b9e60c3c",
   "metadata": {},
   "outputs": [
    {
     "name": "stdout",
     "output_type": "stream",
     "text": [
      "Enter the first hero: IRON MAN/TONY STARK\n",
      "Enter the second hero: THING/BENJAMIN J. GR\n",
      "Enter the number of top heroes to consider:  6\n",
      "Number of links to disconnect (considering the weight): 0.03607055004195208\n"
     ]
    },
    {
     "data": {
      "image/png": "[encoded data removed]",
      "text/plain": [
       "<Figure size 432x288 with 1 Axes>"
      ]
     },
     "metadata": {},
     "output_type": "display_data"
    },
    {
     "data": {
      "image/png": "[encoded data removed]",
      "text/plain": [
       "<Figure size 432x288 with 1 Axes>"
      ]
     },
     "metadata": {},
     "output_type": "display_data"
    }
   ],
   "source": [
    "visualize_disconnect()"
   ]
  }
 ],
 "metadata": {
  "kernelspec": {
   "display_name": "Python 3 (ipykernel)",
   "language": "python",
   "name": "python3"
  },
  "language_info": {
   "codemirror_mode": {
    "name": "ipython",
    "version": 3
   },
   "file_extension": ".py",
   "mimetype": "text/x-python",
   "name": "python",
   "nbconvert_exporter": "python",
   "pygments_lexer": "ipython3",
   "version": "3.9.12"
  },
  "vscode": {
   "interpreter": {
    "hash": "28ea75b7d9dd5b325cb9a751dc34da71a10f8944bac9b4ff454d9595cb15b82f"
   }
  }
 },
 "nbformat": 4,
 "nbformat_minor": 5
}
