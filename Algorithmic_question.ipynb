{
 "cells": [
  {
   "cell_type": "code",
   "execution_count": 1,
   "id": "c39d27b8-e666-4564-93ae-bbef07644d9f",
   "metadata": {},
   "outputs": [],
   "source": [
    "import pandas as pd\n",
    "import itertools"
   ]
  },
  {
   "cell_type": "markdown",
   "id": "6302546a-3161-4792-8c6c-45589b2e5a3f",
   "metadata": {},
   "source": [
    "# **ALGORITHMIC QUESTION**"
   ]
  },
  {
   "cell_type": "markdown",
   "id": "160a03e1-7a5c-4f21-b77e-7028bdd48e79",
   "metadata": {},
   "source": [
    "## **Problem modeling**"
   ]
  },
  {
   "cell_type": "markdown",
   "id": "7422267c-482c-45b9-84ea-3cc8aa199ba6",
   "metadata": {},
   "source": [
    "* To solve the problem, we label the nodes of the $\\quad 3 \\times 3 \\quad$ grid with the integers from $1$ to $9$ , as shown in the figure below."
   ]
  },
  {
   "cell_type": "code",
   "execution_count": 6,
   "id": "647035ba-0c49-4d63-bb8b-3533fcc5d90e",
   "metadata": {},
   "outputs": [
    {
     "data": {
      "image/png": "[encoded data removed]",
      "text/plain": [
       "<IPython.core.display.Image object>"
      ]
     },
     "execution_count": 6,
     "metadata": {},
     "output_type": "execute_result"
    }
   ],
   "source": [
    "from IPython.display import Image\n",
    "Image(\"C:/Users/wiwis/OneDrive/Desktop/ADM/5°HW/grafo_password.png\")"
   ]
  },
  {
   "cell_type": "markdown",
   "id": "1ba86674-652e-42cc-b45f-694b5accdc9a",
   "metadata": {},
   "source": [
    "<center><img src=\"grafo_password.png\" /></center>\n"
   ]
  },
  {
   "cell_type": "markdown",
   "id": "b0ddd21d-3331-4743-bda3-55ecbb24ceff",
   "metadata": {},
   "source": [
    "* From the exercise description as input we have a string that read from left to right ,via individual letters, describes the direction ( **R**, **L**, **U**, and **D** ) of each line segment of a path through the grid, without giving any information about the length of these segments. <br> To better schematize the problem from now on the following notation will be considered :\n",
    "   + `'r'`,`'l'`,`'u'`, and `'d'` correspond to a movement of a single segment to the Right, Left, Up, and Down directions;\n",
    "   + `'R'`,`'L'`,`'U'`, and `'D'` correspond to a movement of two segment to the Right, Left, Up, and Down directions."
   ]
  },
  {
   "cell_type": "markdown",
   "id": "fd07679a-7623-4f9a-b931-c4b3c7ae9de9",
   "metadata": {},
   "source": [
    "* Now in a dataframe we enter the information about the connections between the various nodes by indexing the rows with their labels and indicating the possible movements in the columns, taking into account the notation just fixed."
   ]
  },
  {
   "cell_type": "code",
   "execution_count": 2,
   "id": "0b2c7256-728e-48ae-8e48-fe7173093608",
   "metadata": {},
   "outputs": [
    {
     "data": {
      "text/html": [
       "<div>\n",
       "<style scoped>\n",
       "    .dataframe tbody tr th:only-of-type {\n",
       "        vertical-align: middle;\n",
       "    }\n",
       "\n",
       "    .dataframe tbody tr th {\n",
       "        vertical-align: top;\n",
       "    }\n",
       "\n",
       "    .dataframe thead th {\n",
       "        text-align: right;\n",
       "    }\n",
       "</style>\n",
       "<table border=\"1\" class=\"dataframe\">\n",
       "  <thead>\n",
       "    <tr style=\"text-align: right;\">\n",
       "      <th></th>\n",
       "      <th>r</th>\n",
       "      <th>R</th>\n",
       "      <th>l</th>\n",
       "      <th>L</th>\n",
       "      <th>u</th>\n",
       "      <th>U</th>\n",
       "      <th>d</th>\n",
       "      <th>D</th>\n",
       "    </tr>\n",
       "  </thead>\n",
       "  <tbody>\n",
       "    <tr>\n",
       "      <th>1</th>\n",
       "      <td>2</td>\n",
       "      <td>3</td>\n",
       "      <td>1</td>\n",
       "      <td>1</td>\n",
       "      <td>4</td>\n",
       "      <td>7</td>\n",
       "      <td>1</td>\n",
       "      <td>1</td>\n",
       "    </tr>\n",
       "    <tr>\n",
       "      <th>2</th>\n",
       "      <td>3</td>\n",
       "      <td>2</td>\n",
       "      <td>1</td>\n",
       "      <td>2</td>\n",
       "      <td>5</td>\n",
       "      <td>8</td>\n",
       "      <td>2</td>\n",
       "      <td>2</td>\n",
       "    </tr>\n",
       "    <tr>\n",
       "      <th>3</th>\n",
       "      <td>3</td>\n",
       "      <td>3</td>\n",
       "      <td>2</td>\n",
       "      <td>1</td>\n",
       "      <td>6</td>\n",
       "      <td>9</td>\n",
       "      <td>3</td>\n",
       "      <td>3</td>\n",
       "    </tr>\n",
       "    <tr>\n",
       "      <th>4</th>\n",
       "      <td>5</td>\n",
       "      <td>6</td>\n",
       "      <td>4</td>\n",
       "      <td>4</td>\n",
       "      <td>7</td>\n",
       "      <td>4</td>\n",
       "      <td>1</td>\n",
       "      <td>4</td>\n",
       "    </tr>\n",
       "    <tr>\n",
       "      <th>5</th>\n",
       "      <td>6</td>\n",
       "      <td>5</td>\n",
       "      <td>4</td>\n",
       "      <td>5</td>\n",
       "      <td>8</td>\n",
       "      <td>5</td>\n",
       "      <td>2</td>\n",
       "      <td>5</td>\n",
       "    </tr>\n",
       "    <tr>\n",
       "      <th>6</th>\n",
       "      <td>6</td>\n",
       "      <td>6</td>\n",
       "      <td>5</td>\n",
       "      <td>4</td>\n",
       "      <td>9</td>\n",
       "      <td>6</td>\n",
       "      <td>3</td>\n",
       "      <td>6</td>\n",
       "    </tr>\n",
       "    <tr>\n",
       "      <th>7</th>\n",
       "      <td>8</td>\n",
       "      <td>9</td>\n",
       "      <td>7</td>\n",
       "      <td>7</td>\n",
       "      <td>7</td>\n",
       "      <td>7</td>\n",
       "      <td>4</td>\n",
       "      <td>1</td>\n",
       "    </tr>\n",
       "    <tr>\n",
       "      <th>8</th>\n",
       "      <td>9</td>\n",
       "      <td>8</td>\n",
       "      <td>7</td>\n",
       "      <td>8</td>\n",
       "      <td>8</td>\n",
       "      <td>8</td>\n",
       "      <td>5</td>\n",
       "      <td>2</td>\n",
       "    </tr>\n",
       "    <tr>\n",
       "      <th>9</th>\n",
       "      <td>9</td>\n",
       "      <td>9</td>\n",
       "      <td>8</td>\n",
       "      <td>7</td>\n",
       "      <td>9</td>\n",
       "      <td>9</td>\n",
       "      <td>6</td>\n",
       "      <td>3</td>\n",
       "    </tr>\n",
       "  </tbody>\n",
       "</table>\n",
       "</div>"
      ],
      "text/plain": [
       "   r  R  l  L  u  U  d  D\n",
       "1  2  3  1  1  4  7  1  1\n",
       "2  3  2  1  2  5  8  2  2\n",
       "3  3  3  2  1  6  9  3  3\n",
       "4  5  6  4  4  7  4  1  4\n",
       "5  6  5  4  5  8  5  2  5\n",
       "6  6  6  5  4  9  6  3  6\n",
       "7  8  9  7  7  7  7  4  1\n",
       "8  9  8  7  8  8  8  5  2\n",
       "9  9  9  8  7  9  9  6  3"
      ]
     },
     "execution_count": 2,
     "metadata": {},
     "output_type": "execute_result"
    }
   ],
   "source": [
    "nodes_connections= pd.DataFrame(index=[i for i in range(1,10)],columns=['r','R','l','L','u','U','d','D'])\n",
    "\n",
    "nodes_connections.loc[1] = pd.Series([2,3,1,1,4,7,1,1],index=['r','R','l','L','u','U','d','D'])\n",
    "nodes_connections.loc[2] = pd.Series([3,2,1,2,5,8,2,2],index=['r','R','l','L','u','U','d','D'])\n",
    "nodes_connections.loc[3] = pd.Series([3,3,2,1,6,9,3,3],index=['r','R','l','L','u','U','d','D'])\n",
    "nodes_connections.loc[4] = pd.Series([5,6,4,4,7,4,1,4],index=['r','R','l','L','u','U','d','D'])\n",
    "nodes_connections.loc[5] = pd.Series([6,5,4,5,8,5,2,5],index=['r','R','l','L','u','U','d','D'])\n",
    "nodes_connections.loc[6] = pd.Series([6,6,5,4,9,6,3,6],index=['r','R','l','L','u','U','d','D'])\n",
    "nodes_connections.loc[7] = pd.Series([8,9,7,7,7,7,4,1],index=['r','R','l','L','u','U','d','D'])\n",
    "nodes_connections.loc[8] = pd.Series([9,8,7,8,8,8,5,2],index=['r','R','l','L','u','U','d','D'])\n",
    "nodes_connections.loc[9] = pd.Series([9,9,8,7,9,9,6,3],index=['r','R','l','L','u','U','d','D'])\n",
    "\n",
    "nodes_connections"
   ]
  },
  {
   "cell_type": "markdown",
   "id": "e5c2d401-6b53-438d-8b17-18dcb1621ddd",
   "metadata": {},
   "source": [
    "* For example, if we condider the entry relative to node $1$ and at column `'r'` we observe the value $2$ relative to the node of the same name, which in fact can be reached from node $1$ with a single movement to the right. <br> If from a node a paricular move is not possible in the corresponding entry the label of the node in question is inserted, as noted for the entries of node $1$ corresponding to the columns `'l'`,`'L'`,`'d'` and `'D'`."
   ]
  },
  {
   "cell_type": "markdown",
   "id": "08cab2ce-3fa8-4a6e-b586-d7a0a4600b93",
   "metadata": {},
   "source": [
    "## **Solution**"
   ]
  },
  {
   "cell_type": "markdown",
   "id": "538eef99-537e-4434-90aa-c37b3aff123c",
   "metadata": {},
   "source": [
    "* The below `Password` function represents an implementation to solve the problem, as input it requires the dataframe  related to the connections `nodes_connections` and the string that tracks the directions of the movements `input_movements` while as output it returns an integer corresponding to the number of possible patterns . Is structured as follows:<br><br>\n",
    "    + before any calculation, if the length of `input_movements` is greater than 8=*(number of nodes -1)* the process stops and 0 is returned. In fact considering the conditions ,specified in the text of the exercise, that the poly-lines under consideration, constructed via `input_movements`, must satisfy they cannot consist of more than *(number of nodes -1)* segments;<br><br> \n",
    "    + all the possible paths that `input_movements` can represent are collected in the list `possible_path` as tuples.<br> For example if `input_movements` = 'DRU' we have: <br>\n",
    "    `possible_path`= \\[('d', 'r', 'u'), ('d', 'r', 'U'), ('d', 'R', 'u'), ('d', 'R', 'U'), ('D', 'r', 'u'), ('D', 'r', 'U'), ('D', 'R', 'u'), ('D', 'R', 'U' \\];<br><br>\n",
    "    + **ALGORITHM CORE** - considering the single path `path` among those found, in the $j$-$th$ entry of the list `nodes_visited` we keep updated the set of nodes that we meet using `path` assuming the $(j+1)$-$th$ node as starting point, once the path is finished if the length of this set coincides with the *(length of `path` +1)* we increase the counter of possible patterns by one, in fact for a pattern related to `path` to be consistent with the problem it must be such as to encounter *(length of `path` +1)* distinct nodes.\n"
   ]
  },
  {
   "cell_type": "code",
   "execution_count": 3,
   "id": "9d604cc3-d002-4ff9-aa03-c801be398eef",
   "metadata": {},
   "outputs": [],
   "source": [
    "def Password(nodes_connections,input_movements):\n",
    "    \n",
    "    # SUPPORT VARIABLES INITIALIZATION\n",
    "    number_nodes = nodes_connections.shape[0] \n",
    "    lenght_path = len(input_movements)\n",
    "    possible_decision = []    \n",
    "    count_path = 0\n",
    "    \n",
    "    # CHECK ON THE CONSISTENCY OF 'input_movements'\n",
    "    if lenght_path > (number_nodes-1):    \n",
    "         return 0    \n",
    "    \n",
    "    # ALL POSSIBLE PATHS ARE FOUND\n",
    "    for movement in input_movements:\n",
    "         possible_decision.append((movement.lower(),movement))\n",
    "    possible_path = list(itertools.product(*possible_decision))\n",
    "\n",
    "    # WE CONTROL THE PATHS INIDVIDUALLY\n",
    "    for path in possible_path:\n",
    "        \n",
    "        #ALGORITHM CORE APPLIED TO ALL NODES SIMULTANEOUSLY\n",
    "        nodes_visited = [ set([i]) for i in range(1,number_nodes+1) ]\n",
    "        current_positions  = [ i for i in range(1,number_nodes+1) ]\n",
    "\n",
    "        for movement in path:\n",
    "            \n",
    "            for j in range(number_nodes):\n",
    "                \n",
    "                movement_node_j = nodes_connections.loc[current_positions[j], movement]\n",
    "                current_positions[j] = movement_node_j\n",
    "                nodes_visited[j].add(movement_node_j)\n",
    "            \n",
    "            count_path += [ len(p) for p in nodes_visited ].count(lenght_path+1)            \n",
    "\n",
    "    return count_path    "
   ]
  },
  {
   "cell_type": "markdown",
   "id": "655d2ac9-70d1-4a3b-99b7-d3050e3d02d9",
   "metadata": {
    "tags": []
   },
   "source": [
    "## **Testing**"
   ]
  },
  {
   "cell_type": "markdown",
   "id": "55ef5ba0-c9ee-4d28-88d4-fae73dfcbef2",
   "metadata": {},
   "source": [
    "* Let us now test the algorithm with the three example inputs given in the exercise trace:"
   ]
  },
  {
   "cell_type": "code",
   "execution_count": 4,
   "id": "531bc8e4-b22a-4874-b029-4086fc839bc1",
   "metadata": {},
   "outputs": [],
   "source": [
    "input_1 = 'DRU'\n",
    "input_2 = 'R'\n",
    "input_3 = 'LDRDRUL'"
   ]
  },
  {
   "cell_type": "code",
   "execution_count": 5,
   "id": "b95e1454-597e-43e3-ab3d-9577888cb21e",
   "metadata": {},
   "outputs": [
    {
     "name": "stdout",
     "output_type": "stream",
     "text": [
      "The possible pattern encoded by the direction string 'DRU' are: 15\n",
      "The possible pattern encoded by the direction string 'R' are: 9\n",
      "The possible pattern encoded by the direction string 'LDRDRUL' are: 0\n"
     ]
    }
   ],
   "source": [
    "print('The possible pattern encoded by the direction string \\''+input_1+'\\' are: '+str(Password(nodes_connections,input_1)))\n",
    "print('The possible pattern encoded by the direction string \\''+input_2+'\\' are: '+str(Password(nodes_connections,input_2)))\n",
    "print('The possible pattern encoded by the direction string \\''+input_3+'\\' are: '+str(Password(nodes_connections,input_3)))"
   ]
  },
  {
   "cell_type": "markdown",
   "id": "c4de8d05-f280-427a-b155-57a7b8451f96",
   "metadata": {},
   "source": [
    "* all results are correct."
   ]
  }
 ],
 "metadata": {
  "kernelspec": {
   "display_name": "Python 3 (ipykernel)",
   "language": "python",
   "name": "python3"
  },
  "language_info": {
   "codemirror_mode": {
    "name": "ipython",
    "version": 3
   },
   "file_extension": ".py",
   "mimetype": "text/x-python",
   "name": "python",
   "nbconvert_exporter": "python",
   "pygments_lexer": "ipython3",
   "version": "3.9.12"
  }
 },
 "nbformat": 4,
 "nbformat_minor": 5
}
